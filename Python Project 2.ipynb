{
 "cells": [
  {
   "cell_type": "code",
   "execution_count": 1,
   "metadata": {},
   "outputs": [],
   "source": [
    "import pandas as pd\n",
    "import numpy as np"
   ]
  },
  {
   "cell_type": "code",
   "execution_count": 3,
   "metadata": {},
   "outputs": [],
   "source": [
    "df = pd.read_csv('https://raw.githubusercontent.com/CunyLaguardiaDataAnalytics/datasets/master/2014-15_To_2016-17_School-_Level_NYC_Regents_Report_For_All_Variables.csv')"
   ]
  },
  {
   "cell_type": "code",
   "execution_count": 4,
   "metadata": {},
   "outputs": [
    {
     "data": {
      "text/html": [
       "<div>\n",
       "<style scoped>\n",
       "    .dataframe tbody tr th:only-of-type {\n",
       "        vertical-align: middle;\n",
       "    }\n",
       "\n",
       "    .dataframe tbody tr th {\n",
       "        vertical-align: top;\n",
       "    }\n",
       "\n",
       "    .dataframe thead th {\n",
       "        text-align: right;\n",
       "    }\n",
       "</style>\n",
       "<table border=\"1\" class=\"dataframe\">\n",
       "  <thead>\n",
       "    <tr style=\"text-align: right;\">\n",
       "      <th></th>\n",
       "      <th>School DBN</th>\n",
       "      <th>School Name</th>\n",
       "      <th>School Level</th>\n",
       "      <th>Regents Exam</th>\n",
       "      <th>Year</th>\n",
       "      <th>Total Tested</th>\n",
       "      <th>Mean Score</th>\n",
       "      <th>Number Scoring Below 65</th>\n",
       "      <th>Percent Scoring Below 65</th>\n",
       "      <th>Number Scoring 65 or Above</th>\n",
       "      <th>Percent Scoring 65 or Above</th>\n",
       "      <th>Number Scoring 80 or Above</th>\n",
       "      <th>Percent Scoring 80 or Above</th>\n",
       "      <th>Number Scoring CR</th>\n",
       "      <th>Percent Scoring CR</th>\n",
       "    </tr>\n",
       "  </thead>\n",
       "  <tbody>\n",
       "    <tr>\n",
       "      <th>0</th>\n",
       "      <td>01M034</td>\n",
       "      <td>P.S. 034 Franklin D. Roosevelt</td>\n",
       "      <td>K-8</td>\n",
       "      <td>Common Core Algebra</td>\n",
       "      <td>2017</td>\n",
       "      <td>4</td>\n",
       "      <td>s</td>\n",
       "      <td>s</td>\n",
       "      <td>s</td>\n",
       "      <td>s</td>\n",
       "      <td>s</td>\n",
       "      <td>s</td>\n",
       "      <td>s</td>\n",
       "      <td>na</td>\n",
       "      <td>na</td>\n",
       "    </tr>\n",
       "    <tr>\n",
       "      <th>1</th>\n",
       "      <td>01M034</td>\n",
       "      <td>P.S. 034 Franklin D. Roosevelt</td>\n",
       "      <td>K-8</td>\n",
       "      <td>Living Environment</td>\n",
       "      <td>2015</td>\n",
       "      <td>16</td>\n",
       "      <td>77.9</td>\n",
       "      <td>1</td>\n",
       "      <td>6.3</td>\n",
       "      <td>15</td>\n",
       "      <td>93.8</td>\n",
       "      <td>7</td>\n",
       "      <td>43.8</td>\n",
       "      <td>na</td>\n",
       "      <td>na</td>\n",
       "    </tr>\n",
       "    <tr>\n",
       "      <th>2</th>\n",
       "      <td>01M034</td>\n",
       "      <td>P.S. 034 Franklin D. Roosevelt</td>\n",
       "      <td>K-8</td>\n",
       "      <td>Living Environment</td>\n",
       "      <td>2016</td>\n",
       "      <td>9</td>\n",
       "      <td>74</td>\n",
       "      <td>1</td>\n",
       "      <td>11.1</td>\n",
       "      <td>8</td>\n",
       "      <td>88.9</td>\n",
       "      <td>2</td>\n",
       "      <td>22.2</td>\n",
       "      <td>na</td>\n",
       "      <td>na</td>\n",
       "    </tr>\n",
       "    <tr>\n",
       "      <th>3</th>\n",
       "      <td>01M140</td>\n",
       "      <td>P.S. 140 Nathan Straus</td>\n",
       "      <td>K-8</td>\n",
       "      <td>Common Core Algebra</td>\n",
       "      <td>2016</td>\n",
       "      <td>3</td>\n",
       "      <td>s</td>\n",
       "      <td>s</td>\n",
       "      <td>s</td>\n",
       "      <td>s</td>\n",
       "      <td>s</td>\n",
       "      <td>s</td>\n",
       "      <td>s</td>\n",
       "      <td>na</td>\n",
       "      <td>na</td>\n",
       "    </tr>\n",
       "    <tr>\n",
       "      <th>4</th>\n",
       "      <td>01M140</td>\n",
       "      <td>P.S. 140 Nathan Straus</td>\n",
       "      <td>K-8</td>\n",
       "      <td>Common Core Algebra</td>\n",
       "      <td>2017</td>\n",
       "      <td>2</td>\n",
       "      <td>s</td>\n",
       "      <td>s</td>\n",
       "      <td>s</td>\n",
       "      <td>s</td>\n",
       "      <td>s</td>\n",
       "      <td>s</td>\n",
       "      <td>s</td>\n",
       "      <td>na</td>\n",
       "      <td>na</td>\n",
       "    </tr>\n",
       "  </tbody>\n",
       "</table>\n",
       "</div>"
      ],
      "text/plain": [
       "  School DBN                     School Name School Level  \\\n",
       "0     01M034  P.S. 034 Franklin D. Roosevelt          K-8   \n",
       "1     01M034  P.S. 034 Franklin D. Roosevelt          K-8   \n",
       "2     01M034  P.S. 034 Franklin D. Roosevelt          K-8   \n",
       "3     01M140          P.S. 140 Nathan Straus          K-8   \n",
       "4     01M140          P.S. 140 Nathan Straus          K-8   \n",
       "\n",
       "          Regents Exam  Year  Total Tested Mean Score Number Scoring Below 65  \\\n",
       "0  Common Core Algebra  2017             4          s                       s   \n",
       "1   Living Environment  2015            16       77.9                       1   \n",
       "2   Living Environment  2016             9         74                       1   \n",
       "3  Common Core Algebra  2016             3          s                       s   \n",
       "4  Common Core Algebra  2017             2          s                       s   \n",
       "\n",
       "  Percent Scoring Below 65 Number Scoring 65 or Above  \\\n",
       "0                        s                          s   \n",
       "1                      6.3                         15   \n",
       "2                     11.1                          8   \n",
       "3                        s                          s   \n",
       "4                        s                          s   \n",
       "\n",
       "  Percent Scoring 65 or Above Number Scoring 80 or Above  \\\n",
       "0                           s                          s   \n",
       "1                        93.8                          7   \n",
       "2                        88.9                          2   \n",
       "3                           s                          s   \n",
       "4                           s                          s   \n",
       "\n",
       "  Percent Scoring 80 or Above Number Scoring CR Percent Scoring CR  \n",
       "0                           s                na                 na  \n",
       "1                        43.8                na                 na  \n",
       "2                        22.2                na                 na  \n",
       "3                           s                na                 na  \n",
       "4                           s                na                 na  "
      ]
     },
     "execution_count": 4,
     "metadata": {},
     "output_type": "execute_result"
    }
   ],
   "source": [
    "#eda\n",
    "\n",
    "df.head()"
   ]
  },
  {
   "cell_type": "code",
   "execution_count": 5,
   "metadata": {},
   "outputs": [
    {
     "data": {
      "text/plain": [
       "School DBN                     object\n",
       "School Name                    object\n",
       "School Level                   object\n",
       "Regents Exam                   object\n",
       "Year                            int64\n",
       "Total Tested                    int64\n",
       "Mean Score                     object\n",
       "Number Scoring Below 65        object\n",
       "Percent Scoring Below 65       object\n",
       "Number Scoring 65 or Above     object\n",
       "Percent Scoring 65 or Above    object\n",
       "Number Scoring 80 or Above     object\n",
       "Percent Scoring 80 or Above    object\n",
       "Number Scoring CR              object\n",
       "Percent Scoring CR             object\n",
       "dtype: object"
      ]
     },
     "execution_count": 5,
     "metadata": {},
     "output_type": "execute_result"
    }
   ],
   "source": [
    "df.dtypes"
   ]
  },
  {
   "cell_type": "code",
   "execution_count": 6,
   "metadata": {},
   "outputs": [
    {
     "data": {
      "text/plain": [
       "Index(['School DBN', 'School Name', 'School Level', 'Regents Exam', 'Year',\n",
       "       'Total Tested', 'Mean Score', 'Number Scoring Below 65',\n",
       "       'Percent Scoring Below 65', 'Number Scoring 65 or Above',\n",
       "       'Percent Scoring 65 or Above', 'Number Scoring 80 or Above',\n",
       "       'Percent Scoring 80 or Above', 'Number Scoring CR',\n",
       "       'Percent Scoring CR'],\n",
       "      dtype='object')"
      ]
     },
     "execution_count": 6,
     "metadata": {},
     "output_type": "execute_result"
    }
   ],
   "source": [
    "df.columns"
   ]
  },
  {
   "cell_type": "code",
   "execution_count": 7,
   "metadata": {},
   "outputs": [
    {
     "data": {
      "text/plain": [
       "(212331, 15)"
      ]
     },
     "execution_count": 7,
     "metadata": {},
     "output_type": "execute_result"
    }
   ],
   "source": [
    "df.shape"
   ]
  },
  {
   "cell_type": "code",
   "execution_count": 13,
   "metadata": {},
   "outputs": [],
   "source": [
    "#columns to run the analysis: \"School DBN\", 'School Name\", \"Year\", \"Mean Score\"\n",
    "df2 = df[['School DBN','School Name','Year','Mean Score']]"
   ]
  },
  {
   "cell_type": "code",
   "execution_count": 18,
   "metadata": {},
   "outputs": [
    {
     "data": {
      "text/plain": [
       "2017"
      ]
     },
     "execution_count": 18,
     "metadata": {},
     "output_type": "execute_result"
    }
   ],
   "source": [
    "#finding most recent year\n",
    "df2['Year'].max()"
   ]
  },
  {
   "cell_type": "code",
   "execution_count": 19,
   "metadata": {},
   "outputs": [
    {
     "data": {
      "text/plain": [
       "2015"
      ]
     },
     "execution_count": 19,
     "metadata": {},
     "output_type": "execute_result"
    }
   ],
   "source": [
    "#finding oldest year\n",
    "df2['Year'].min()"
   ]
  },
  {
   "cell_type": "code",
   "execution_count": 21,
   "metadata": {},
   "outputs": [
    {
     "data": {
      "text/plain": [
       "0    2016\n",
       "dtype: int64"
      ]
     },
     "execution_count": 21,
     "metadata": {},
     "output_type": "execute_result"
    }
   ],
   "source": [
    "#finding mode year\n",
    "df2['Year'].mode()"
   ]
  },
  {
   "cell_type": "code",
   "execution_count": 32,
   "metadata": {},
   "outputs": [],
   "source": [
    "#Since 2016 is our mode year, we will filter out other years to focus the analysis on this year\n",
    "df3 = df2[(df2['Year']==2016)]"
   ]
  },
  {
   "cell_type": "code",
   "execution_count": 33,
   "metadata": {},
   "outputs": [],
   "source": [
    "#Filtering out \"s\" values on \"Mean Score\" column\n",
    "df4 = df3[(df3['Mean Score']!='s')]"
   ]
  },
  {
   "cell_type": "code",
   "execution_count": 75,
   "metadata": {},
   "outputs": [
    {
     "data": {
      "text/html": [
       "<div>\n",
       "<style scoped>\n",
       "    .dataframe tbody tr th:only-of-type {\n",
       "        vertical-align: middle;\n",
       "    }\n",
       "\n",
       "    .dataframe tbody tr th {\n",
       "        vertical-align: top;\n",
       "    }\n",
       "\n",
       "    .dataframe thead th {\n",
       "        text-align: right;\n",
       "    }\n",
       "</style>\n",
       "<table border=\"1\" class=\"dataframe\">\n",
       "  <thead>\n",
       "    <tr style=\"text-align: right;\">\n",
       "      <th></th>\n",
       "      <th>School DBN</th>\n",
       "      <th>School Name</th>\n",
       "      <th>Year</th>\n",
       "      <th>Mean Score</th>\n",
       "    </tr>\n",
       "  </thead>\n",
       "  <tbody>\n",
       "    <tr>\n",
       "      <th>2</th>\n",
       "      <td>01M034</td>\n",
       "      <td>P.S. 034 Franklin D. Roosevelt</td>\n",
       "      <td>2016</td>\n",
       "      <td>74</td>\n",
       "    </tr>\n",
       "    <tr>\n",
       "      <th>6</th>\n",
       "      <td>01M140</td>\n",
       "      <td>P.S. 140 Nathan Straus</td>\n",
       "      <td>2016</td>\n",
       "      <td>72.6</td>\n",
       "    </tr>\n",
       "    <tr>\n",
       "      <th>9</th>\n",
       "      <td>01M184</td>\n",
       "      <td>P.S. 184m Shuang Wen</td>\n",
       "      <td>2016</td>\n",
       "      <td>79</td>\n",
       "    </tr>\n",
       "    <tr>\n",
       "      <th>13</th>\n",
       "      <td>01M188</td>\n",
       "      <td>P.S. 188 The Island School</td>\n",
       "      <td>2016</td>\n",
       "      <td>69</td>\n",
       "    </tr>\n",
       "    <tr>\n",
       "      <th>16</th>\n",
       "      <td>01M188</td>\n",
       "      <td>P.S. 188 The Island School</td>\n",
       "      <td>2016</td>\n",
       "      <td>62.1</td>\n",
       "    </tr>\n",
       "    <tr>\n",
       "      <th>...</th>\n",
       "      <td>...</td>\n",
       "      <td>...</td>\n",
       "      <td>...</td>\n",
       "      <td>...</td>\n",
       "    </tr>\n",
       "    <tr>\n",
       "      <th>212297</th>\n",
       "      <td>84X704</td>\n",
       "      <td>KIPP Academy Charter School</td>\n",
       "      <td>2016</td>\n",
       "      <td>83.7</td>\n",
       "    </tr>\n",
       "    <tr>\n",
       "      <th>212304</th>\n",
       "      <td>84X705</td>\n",
       "      <td>Family Life Academy Charter School</td>\n",
       "      <td>2016</td>\n",
       "      <td>77</td>\n",
       "    </tr>\n",
       "    <tr>\n",
       "      <th>212305</th>\n",
       "      <td>84X705</td>\n",
       "      <td>Family Life Academy Charter School</td>\n",
       "      <td>2016</td>\n",
       "      <td>76.3</td>\n",
       "    </tr>\n",
       "    <tr>\n",
       "      <th>212320</th>\n",
       "      <td>84X717</td>\n",
       "      <td>Icahn Charter School</td>\n",
       "      <td>2016</td>\n",
       "      <td>87.9</td>\n",
       "    </tr>\n",
       "    <tr>\n",
       "      <th>212321</th>\n",
       "      <td>84X717</td>\n",
       "      <td>Icahn Charter School</td>\n",
       "      <td>2016</td>\n",
       "      <td>87.2</td>\n",
       "    </tr>\n",
       "  </tbody>\n",
       "</table>\n",
       "<p>47064 rows × 4 columns</p>\n",
       "</div>"
      ],
      "text/plain": [
       "       School DBN                         School Name  Year Mean Score\n",
       "2          01M034      P.S. 034 Franklin D. Roosevelt  2016         74\n",
       "6          01M140              P.S. 140 Nathan Straus  2016       72.6\n",
       "9          01M184                P.S. 184m Shuang Wen  2016         79\n",
       "13         01M188          P.S. 188 The Island School  2016         69\n",
       "16         01M188          P.S. 188 The Island School  2016       62.1\n",
       "...           ...                                 ...   ...        ...\n",
       "212297     84X704         KIPP Academy Charter School  2016       83.7\n",
       "212304     84X705  Family Life Academy Charter School  2016         77\n",
       "212305     84X705  Family Life Academy Charter School  2016       76.3\n",
       "212320     84X717                Icahn Charter School  2016       87.9\n",
       "212321     84X717                Icahn Charter School  2016       87.2\n",
       "\n",
       "[47064 rows x 4 columns]"
      ]
     },
     "execution_count": 75,
     "metadata": {},
     "output_type": "execute_result"
    }
   ],
   "source": [
    "df4"
   ]
  },
  {
   "cell_type": "code",
   "execution_count": 56,
   "metadata": {},
   "outputs": [],
   "source": [
    "#Selected School is \"P.S. 034 Franklin D. Roosevelt\", which pertains to Manhattan\n",
    "df5= df4[df4['School DBN'].str.contains('M') & df4['School Name'].str.contains('P.S. 034')]"
   ]
  },
  {
   "cell_type": "code",
   "execution_count": 89,
   "metadata": {},
   "outputs": [
    {
     "data": {
      "text/plain": [
       "73.83333333333333"
      ]
     },
     "execution_count": 89,
     "metadata": {},
     "output_type": "execute_result"
    }
   ],
   "source": [
    "#Mean Score for \"P.S. 034 Franklin D. Roosevelt\" is\n",
    "df8 = df5.groupby(['School Name'])['Mean Score'].apply(pd.to_numeric).mean()\n",
    "df8"
   ]
  },
  {
   "cell_type": "code",
   "execution_count": 91,
   "metadata": {},
   "outputs": [],
   "source": [
    "#Dataframe for other Manhattan schools\n",
    "df6 = df4[df4['School DBN'].str.contains('M')]\n",
    "df7 = df6[df6['School Name']!='P.S. 034 Franklin D. Roosevelt']"
   ]
  },
  {
   "cell_type": "code",
   "execution_count": 84,
   "metadata": {
    "scrolled": true
   },
   "outputs": [
    {
     "data": {
      "text/html": [
       "<div>\n",
       "<style scoped>\n",
       "    .dataframe tbody tr th:only-of-type {\n",
       "        vertical-align: middle;\n",
       "    }\n",
       "\n",
       "    .dataframe tbody tr th {\n",
       "        vertical-align: top;\n",
       "    }\n",
       "\n",
       "    .dataframe thead th {\n",
       "        text-align: right;\n",
       "    }\n",
       "</style>\n",
       "<table border=\"1\" class=\"dataframe\">\n",
       "  <thead>\n",
       "    <tr style=\"text-align: right;\">\n",
       "      <th></th>\n",
       "      <th>School DBN</th>\n",
       "      <th>School Name</th>\n",
       "      <th>Year</th>\n",
       "      <th>Mean Score</th>\n",
       "    </tr>\n",
       "  </thead>\n",
       "  <tbody>\n",
       "    <tr>\n",
       "      <th>6</th>\n",
       "      <td>01M140</td>\n",
       "      <td>P.S. 140 Nathan Straus</td>\n",
       "      <td>2016</td>\n",
       "      <td>72.6</td>\n",
       "    </tr>\n",
       "    <tr>\n",
       "      <th>9</th>\n",
       "      <td>01M184</td>\n",
       "      <td>P.S. 184m Shuang Wen</td>\n",
       "      <td>2016</td>\n",
       "      <td>79</td>\n",
       "    </tr>\n",
       "    <tr>\n",
       "      <th>13</th>\n",
       "      <td>01M188</td>\n",
       "      <td>P.S. 188 The Island School</td>\n",
       "      <td>2016</td>\n",
       "      <td>69</td>\n",
       "    </tr>\n",
       "    <tr>\n",
       "      <th>16</th>\n",
       "      <td>01M188</td>\n",
       "      <td>P.S. 188 The Island School</td>\n",
       "      <td>2016</td>\n",
       "      <td>62.1</td>\n",
       "    </tr>\n",
       "    <tr>\n",
       "      <th>21</th>\n",
       "      <td>01M292</td>\n",
       "      <td>Orchard Collegiate Academy</td>\n",
       "      <td>2016</td>\n",
       "      <td>63.9</td>\n",
       "    </tr>\n",
       "    <tr>\n",
       "      <th>...</th>\n",
       "      <td>...</td>\n",
       "      <td>...</td>\n",
       "      <td>...</td>\n",
       "      <td>...</td>\n",
       "    </tr>\n",
       "    <tr>\n",
       "      <th>210304</th>\n",
       "      <td>84M726</td>\n",
       "      <td>KIPP STAR College Prep Charter School</td>\n",
       "      <td>2016</td>\n",
       "      <td>61.8</td>\n",
       "    </tr>\n",
       "    <tr>\n",
       "      <th>210305</th>\n",
       "      <td>84M726</td>\n",
       "      <td>KIPP STAR College Prep Charter School</td>\n",
       "      <td>2016</td>\n",
       "      <td>65.6</td>\n",
       "    </tr>\n",
       "    <tr>\n",
       "      <th>210318</th>\n",
       "      <td>84M726</td>\n",
       "      <td>KIPP STAR College Prep Charter School</td>\n",
       "      <td>2016</td>\n",
       "      <td>55.2</td>\n",
       "    </tr>\n",
       "    <tr>\n",
       "      <th>210328</th>\n",
       "      <td>84M726</td>\n",
       "      <td>KIPP STAR College Prep Charter School</td>\n",
       "      <td>2016</td>\n",
       "      <td>82.6</td>\n",
       "    </tr>\n",
       "    <tr>\n",
       "      <th>210329</th>\n",
       "      <td>84M726</td>\n",
       "      <td>KIPP STAR College Prep Charter School</td>\n",
       "      <td>2016</td>\n",
       "      <td>86.4</td>\n",
       "    </tr>\n",
       "  </tbody>\n",
       "</table>\n",
       "<p>10599 rows × 4 columns</p>\n",
       "</div>"
      ],
      "text/plain": [
       "       School DBN                            School Name  Year Mean Score\n",
       "6          01M140                 P.S. 140 Nathan Straus  2016       72.6\n",
       "9          01M184                   P.S. 184m Shuang Wen  2016         79\n",
       "13         01M188             P.S. 188 The Island School  2016         69\n",
       "16         01M188             P.S. 188 The Island School  2016       62.1\n",
       "21         01M292             Orchard Collegiate Academy  2016       63.9\n",
       "...           ...                                    ...   ...        ...\n",
       "210304     84M726  KIPP STAR College Prep Charter School  2016       61.8\n",
       "210305     84M726  KIPP STAR College Prep Charter School  2016       65.6\n",
       "210318     84M726  KIPP STAR College Prep Charter School  2016       55.2\n",
       "210328     84M726  KIPP STAR College Prep Charter School  2016       82.6\n",
       "210329     84M726  KIPP STAR College Prep Charter School  2016       86.4\n",
       "\n",
       "[10599 rows x 4 columns]"
      ]
     },
     "execution_count": 84,
     "metadata": {},
     "output_type": "execute_result"
    }
   ],
   "source": [
    "df7"
   ]
  },
  {
   "cell_type": "code",
   "execution_count": 90,
   "metadata": {},
   "outputs": [
    {
     "data": {
      "text/plain": [
       "67.42456835550513"
      ]
     },
     "execution_count": 90,
     "metadata": {},
     "output_type": "execute_result"
    }
   ],
   "source": [
    "#Mean Score for other schools in Manhattan is\n",
    "df9 = df7.groupby(['School Name'])['Mean Score'].apply(pd.to_numeric).mean()\n",
    "df9"
   ]
  },
  {
   "cell_type": "code",
   "execution_count": 95,
   "metadata": {},
   "outputs": [],
   "source": [
    "#Mean Score for other schools in other counties is\n",
    "df10 = df4[~df4['School DBN'].str.contains('M')]\n",
    "df11 = df10.groupby(['School Name'])['Mean Score'].apply(pd.to_numeric).mean()"
   ]
  },
  {
   "cell_type": "code",
   "execution_count": 96,
   "metadata": {},
   "outputs": [
    {
     "data": {
      "text/plain": [
       "65.12914266908014"
      ]
     },
     "execution_count": 96,
     "metadata": {},
     "output_type": "execute_result"
    }
   ],
   "source": [
    "df11"
   ]
  },
  {
   "cell_type": "code",
   "execution_count": 108,
   "metadata": {},
   "outputs": [],
   "source": [
    "labels = ['P.S. 034 Franklin D. Roosevelt', 'Other Manhattan schools', 'Schools in other counties']\n",
    "my_data = [df8, df9, df11]\n",
    "arr = np.array(my_data)\n",
    "d = {'P.S. 034 Franklin D. Roosevelt':df8, 'Other Manhattan schools':df9, 'Schools in other counties':df11}"
   ]
  },
  {
   "cell_type": "code",
   "execution_count": 109,
   "metadata": {},
   "outputs": [],
   "source": [
    "df12 = pd.Series(data=my_data, index=labels)"
   ]
  },
  {
   "cell_type": "code",
   "execution_count": 110,
   "metadata": {},
   "outputs": [
    {
     "data": {
      "text/plain": [
       "P.S. 034 Franklin D. Roosevelt    73.833333\n",
       "Other Manhattan schools           67.424568\n",
       "Schools in other counties         65.129143\n",
       "dtype: float64"
      ]
     },
     "execution_count": 110,
     "metadata": {},
     "output_type": "execute_result"
    }
   ],
   "source": [
    "df12"
   ]
  },
  {
   "cell_type": "code",
   "execution_count": 107,
   "metadata": {},
   "outputs": [],
   "source": [
    "import matplotlib.pyplot as plot\n",
    "%matplotlib inline"
   ]
  },
  {
   "cell_type": "code",
   "execution_count": 123,
   "metadata": {
    "scrolled": true
   },
   "outputs": [
    {
     "data": {
      "text/plain": [
       "<AxesSubplot:title={'center':'Median Test Scores in NY. 2016.'}, xlabel='School', ylabel='Mean Score'>"
      ]
     },
     "execution_count": 123,
     "metadata": {},
     "output_type": "execute_result"
    },
    {
     "data": {
      "image/png": "[encoded data removed]",
      "text/plain": [
       "<Figure size 432x288 with 1 Axes>"
      ]
     },
     "metadata": {
      "needs_background": "light"
     },
     "output_type": "display_data"
    }
   ],
   "source": [
    "df12.plot(kind=\"bar\", title='Median Test Scores in NY. 2016.', xlabel='School', ylabel='Mean Score')"
   ]
  },
  {
   "cell_type": "code",
   "execution_count": 124,
   "metadata": {},
   "outputs": [],
   "source": [
    "#For 2016, P.S. 034 Franklin D. Roosevelt school scored an average of 73.83\n",
    "#while rest of the schools in the same borough scored and average of 67.42\n",
    "#This means that in 2016 P.S. 034 Franklin D. Roosevelt school performed 6.41 over the rest of the schools in the borough\n",
    "#Comparing P.S. 034 Franklin D. Roosevelt  with schools in other boroughs (65.12), \n",
    "#performance spread grows substantially bigger (8.71 difference). \n"
   ]
  },
  {
   "cell_type": "code",
   "execution_count": null,
   "metadata": {},
   "outputs": [],
   "source": []
  }
 ],
 "metadata": {
  "kernelspec": {
   "display_name": "Python 3",
   "language": "python",
   "name": "python3"
  },
  "language_info": {
   "codemirror_mode": {
    "name": "ipython",
    "version": 3
   },
   "file_extension": ".py",
   "mimetype": "text/x-python",
   "name": "python",
   "nbconvert_exporter": "python",
   "pygments_lexer": "ipython3",
   "version": "3.8.5"
  }
 },
 "nbformat": 4,
 "nbformat_minor": 4
}
