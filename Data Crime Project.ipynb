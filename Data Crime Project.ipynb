{
 "cells": [
  {
   "cell_type": "code",
   "execution_count": 1,
   "metadata": {},
   "outputs": [],
   "source": [
    "import pandas as pd\n",
    "import numpy as np\n",
    "import matplotlib.pyplot as plt\n",
    "import seaborn as sns\n",
    "%matplotlib inline"
   ]
  },
  {
   "cell_type": "code",
   "execution_count": 2,
   "metadata": {},
   "outputs": [],
   "source": [
    "df = pd.read_csv(\"https://data.cityofnewyork.us/api/views/uip8-fykc/rows.csv?accessType=DOWNLOAD\")"
   ]
  },
  {
   "cell_type": "code",
   "execution_count": 3,
   "metadata": {},
   "outputs": [
    {
     "data": {
      "text/html": [
       "<div>\n",
       "<style scoped>\n",
       "    .dataframe tbody tr th:only-of-type {\n",
       "        vertical-align: middle;\n",
       "    }\n",
       "\n",
       "    .dataframe tbody tr th {\n",
       "        vertical-align: top;\n",
       "    }\n",
       "\n",
       "    .dataframe thead th {\n",
       "        text-align: right;\n",
       "    }\n",
       "</style>\n",
       "<table border=\"1\" class=\"dataframe\">\n",
       "  <thead>\n",
       "    <tr style=\"text-align: right;\">\n",
       "      <th></th>\n",
       "      <th>ARREST_KEY</th>\n",
       "      <th>ARREST_DATE</th>\n",
       "      <th>PD_CD</th>\n",
       "      <th>PD_DESC</th>\n",
       "      <th>KY_CD</th>\n",
       "      <th>OFNS_DESC</th>\n",
       "      <th>LAW_CODE</th>\n",
       "      <th>LAW_CAT_CD</th>\n",
       "      <th>ARREST_BORO</th>\n",
       "      <th>ARREST_PRECINCT</th>\n",
       "      <th>JURISDICTION_CODE</th>\n",
       "      <th>AGE_GROUP</th>\n",
       "      <th>PERP_SEX</th>\n",
       "      <th>PERP_RACE</th>\n",
       "      <th>X_COORD_CD</th>\n",
       "      <th>Y_COORD_CD</th>\n",
       "      <th>Latitude</th>\n",
       "      <th>Longitude</th>\n",
       "      <th>New Georeferenced Column</th>\n",
       "    </tr>\n",
       "  </thead>\n",
       "  <tbody>\n",
       "    <tr>\n",
       "      <th>0</th>\n",
       "      <td>263187871</td>\n",
       "      <td>02/07/2023</td>\n",
       "      <td>105.0</td>\n",
       "      <td>STRANGULATION 1ST</td>\n",
       "      <td>106.0</td>\n",
       "      <td>FELONY ASSAULT</td>\n",
       "      <td>PL 1211200</td>\n",
       "      <td>F</td>\n",
       "      <td>S</td>\n",
       "      <td>120</td>\n",
       "      <td>0</td>\n",
       "      <td>25-44</td>\n",
       "      <td>M</td>\n",
       "      <td>BLACK</td>\n",
       "      <td>951637</td>\n",
       "      <td>171141</td>\n",
       "      <td>40.636362</td>\n",
       "      <td>-74.117505</td>\n",
       "      <td>POINT (-74.117505 40.636362)</td>\n",
       "    </tr>\n",
       "    <tr>\n",
       "      <th>1</th>\n",
       "      <td>261368273</td>\n",
       "      <td>01/04/2023</td>\n",
       "      <td>NaN</td>\n",
       "      <td>(null)</td>\n",
       "      <td>NaN</td>\n",
       "      <td>(null)</td>\n",
       "      <td>RPA0076801</td>\n",
       "      <td>M</td>\n",
       "      <td>M</td>\n",
       "      <td>34</td>\n",
       "      <td>0</td>\n",
       "      <td>25-44</td>\n",
       "      <td>F</td>\n",
       "      <td>BLACK</td>\n",
       "      <td>1004287</td>\n",
       "      <td>251338</td>\n",
       "      <td>40.856519</td>\n",
       "      <td>-73.927564</td>\n",
       "      <td>POINT (-73.927564 40.856519)</td>\n",
       "    </tr>\n",
       "    <tr>\n",
       "      <th>2</th>\n",
       "      <td>261667175</td>\n",
       "      <td>01/10/2023</td>\n",
       "      <td>101.0</td>\n",
       "      <td>ASSAULT 3</td>\n",
       "      <td>344.0</td>\n",
       "      <td>ASSAULT 3 &amp; RELATED OFFENSES</td>\n",
       "      <td>PL 1200001</td>\n",
       "      <td>M</td>\n",
       "      <td>B</td>\n",
       "      <td>42</td>\n",
       "      <td>0</td>\n",
       "      <td>18-24</td>\n",
       "      <td>F</td>\n",
       "      <td>WHITE HISPANIC</td>\n",
       "      <td>1008754</td>\n",
       "      <td>238895</td>\n",
       "      <td>40.822355</td>\n",
       "      <td>-73.911463</td>\n",
       "      <td>POINT (-73.911463 40.822355)</td>\n",
       "    </tr>\n",
       "    <tr>\n",
       "      <th>3</th>\n",
       "      <td>264298625</td>\n",
       "      <td>02/27/2023</td>\n",
       "      <td>NaN</td>\n",
       "      <td>(null)</td>\n",
       "      <td>NaN</td>\n",
       "      <td>(null)</td>\n",
       "      <td>PL 2224000</td>\n",
       "      <td>F</td>\n",
       "      <td>Q</td>\n",
       "      <td>113</td>\n",
       "      <td>0</td>\n",
       "      <td>25-44</td>\n",
       "      <td>M</td>\n",
       "      <td>BLACK</td>\n",
       "      <td>1039225</td>\n",
       "      <td>181937</td>\n",
       "      <td>40.665881</td>\n",
       "      <td>-73.801837</td>\n",
       "      <td>POINT (-73.80183654 40.66588105)</td>\n",
       "    </tr>\n",
       "    <tr>\n",
       "      <th>4</th>\n",
       "      <td>261516485</td>\n",
       "      <td>01/07/2023</td>\n",
       "      <td>397.0</td>\n",
       "      <td>ROBBERY,OPEN AREA UNCLASSIFIED</td>\n",
       "      <td>105.0</td>\n",
       "      <td>ROBBERY</td>\n",
       "      <td>PL 1601001</td>\n",
       "      <td>F</td>\n",
       "      <td>M</td>\n",
       "      <td>18</td>\n",
       "      <td>0</td>\n",
       "      <td>&lt;18</td>\n",
       "      <td>M</td>\n",
       "      <td>BLACK</td>\n",
       "      <td>988210</td>\n",
       "      <td>218129</td>\n",
       "      <td>40.765390</td>\n",
       "      <td>-73.985702</td>\n",
       "      <td>POINT (-73.985702 40.76539)</td>\n",
       "    </tr>\n",
       "  </tbody>\n",
       "</table>\n",
       "</div>"
      ],
      "text/plain": [
       "   ARREST_KEY ARREST_DATE  PD_CD                         PD_DESC  KY_CD  \\\n",
       "0   263187871  02/07/2023  105.0               STRANGULATION 1ST  106.0   \n",
       "1   261368273  01/04/2023    NaN                          (null)    NaN   \n",
       "2   261667175  01/10/2023  101.0                       ASSAULT 3  344.0   \n",
       "3   264298625  02/27/2023    NaN                          (null)    NaN   \n",
       "4   261516485  01/07/2023  397.0  ROBBERY,OPEN AREA UNCLASSIFIED  105.0   \n",
       "\n",
       "                      OFNS_DESC    LAW_CODE LAW_CAT_CD ARREST_BORO  \\\n",
       "0                FELONY ASSAULT  PL 1211200          F           S   \n",
       "1                        (null)  RPA0076801          M           M   \n",
       "2  ASSAULT 3 & RELATED OFFENSES  PL 1200001          M           B   \n",
       "3                        (null)  PL 2224000          F           Q   \n",
       "4                       ROBBERY  PL 1601001          F           M   \n",
       "\n",
       "   ARREST_PRECINCT  JURISDICTION_CODE AGE_GROUP PERP_SEX       PERP_RACE  \\\n",
       "0              120                  0     25-44        M           BLACK   \n",
       "1               34                  0     25-44        F           BLACK   \n",
       "2               42                  0     18-24        F  WHITE HISPANIC   \n",
       "3              113                  0     25-44        M           BLACK   \n",
       "4               18                  0       <18        M           BLACK   \n",
       "\n",
       "   X_COORD_CD  Y_COORD_CD   Latitude  Longitude  \\\n",
       "0      951637      171141  40.636362 -74.117505   \n",
       "1     1004287      251338  40.856519 -73.927564   \n",
       "2     1008754      238895  40.822355 -73.911463   \n",
       "3     1039225      181937  40.665881 -73.801837   \n",
       "4      988210      218129  40.765390 -73.985702   \n",
       "\n",
       "           New Georeferenced Column  \n",
       "0      POINT (-74.117505 40.636362)  \n",
       "1      POINT (-73.927564 40.856519)  \n",
       "2      POINT (-73.911463 40.822355)  \n",
       "3  POINT (-73.80183654 40.66588105)  \n",
       "4       POINT (-73.985702 40.76539)  "
      ]
     },
     "execution_count": 3,
     "metadata": {},
     "output_type": "execute_result"
    }
   ],
   "source": [
    "#EDA\n",
    "#Checking dataframe head to get a feel of the data\n",
    "df.head()"
   ]
  },
  {
   "cell_type": "code",
   "execution_count": 4,
   "metadata": {},
   "outputs": [
    {
     "data": {
      "text/plain": [
       "(54576, 19)"
      ]
     },
     "execution_count": 4,
     "metadata": {},
     "output_type": "execute_result"
    }
   ],
   "source": [
    "#Number of lines and columns\n",
    "df.shape"
   ]
  },
  {
   "cell_type": "code",
   "execution_count": 5,
   "metadata": {},
   "outputs": [
    {
     "data": {
      "text/plain": [
       "Index(['ARREST_KEY', 'ARREST_DATE', 'PD_CD', 'PD_DESC', 'KY_CD', 'OFNS_DESC',\n",
       "       'LAW_CODE', 'LAW_CAT_CD', 'ARREST_BORO', 'ARREST_PRECINCT',\n",
       "       'JURISDICTION_CODE', 'AGE_GROUP', 'PERP_SEX', 'PERP_RACE', 'X_COORD_CD',\n",
       "       'Y_COORD_CD', 'Latitude', 'Longitude', 'New Georeferenced Column'],\n",
       "      dtype='object')"
      ]
     },
     "execution_count": 5,
     "metadata": {},
     "output_type": "execute_result"
    }
   ],
   "source": [
    "#Name of the columns\n",
    "df.columns"
   ]
  },
  {
   "cell_type": "code",
   "execution_count": 6,
   "metadata": {},
   "outputs": [
    {
     "data": {
      "text/html": [
       "<div>\n",
       "<style scoped>\n",
       "    .dataframe tbody tr th:only-of-type {\n",
       "        vertical-align: middle;\n",
       "    }\n",
       "\n",
       "    .dataframe tbody tr th {\n",
       "        vertical-align: top;\n",
       "    }\n",
       "\n",
       "    .dataframe thead th {\n",
       "        text-align: right;\n",
       "    }\n",
       "</style>\n",
       "<table border=\"1\" class=\"dataframe\">\n",
       "  <thead>\n",
       "    <tr style=\"text-align: right;\">\n",
       "      <th></th>\n",
       "      <th>ARREST_KEY</th>\n",
       "      <th>ARREST_DATE</th>\n",
       "      <th>PD_CD</th>\n",
       "      <th>PD_DESC</th>\n",
       "      <th>KY_CD</th>\n",
       "      <th>OFNS_DESC</th>\n",
       "      <th>LAW_CODE</th>\n",
       "      <th>LAW_CAT_CD</th>\n",
       "      <th>ARREST_BORO</th>\n",
       "      <th>ARREST_PRECINCT</th>\n",
       "      <th>JURISDICTION_CODE</th>\n",
       "      <th>AGE_GROUP</th>\n",
       "      <th>PERP_SEX</th>\n",
       "      <th>PERP_RACE</th>\n",
       "      <th>X_COORD_CD</th>\n",
       "      <th>Y_COORD_CD</th>\n",
       "      <th>Latitude</th>\n",
       "      <th>Longitude</th>\n",
       "      <th>New Georeferenced Column</th>\n",
       "    </tr>\n",
       "  </thead>\n",
       "  <tbody>\n",
       "    <tr>\n",
       "      <th>54571</th>\n",
       "      <td>265375648</td>\n",
       "      <td>03/20/2023</td>\n",
       "      <td>105.0</td>\n",
       "      <td>STRANGULATION 1ST</td>\n",
       "      <td>106.0</td>\n",
       "      <td>FELONY ASSAULT</td>\n",
       "      <td>PL 1211200</td>\n",
       "      <td>F</td>\n",
       "      <td>Q</td>\n",
       "      <td>113</td>\n",
       "      <td>0</td>\n",
       "      <td>25-44</td>\n",
       "      <td>M</td>\n",
       "      <td>ASIAN / PACIFIC ISLANDER</td>\n",
       "      <td>1046399</td>\n",
       "      <td>187126</td>\n",
       "      <td>40.680077</td>\n",
       "      <td>-73.775929</td>\n",
       "      <td>POINT (-73.775929 40.680077)</td>\n",
       "    </tr>\n",
       "    <tr>\n",
       "      <th>54572</th>\n",
       "      <td>265375611</td>\n",
       "      <td>03/20/2023</td>\n",
       "      <td>113.0</td>\n",
       "      <td>MENACING,UNCLASSIFIED</td>\n",
       "      <td>344.0</td>\n",
       "      <td>ASSAULT 3 &amp; RELATED OFFENSES</td>\n",
       "      <td>PL 1201401</td>\n",
       "      <td>M</td>\n",
       "      <td>M</td>\n",
       "      <td>33</td>\n",
       "      <td>0</td>\n",
       "      <td>18-24</td>\n",
       "      <td>M</td>\n",
       "      <td>WHITE HISPANIC</td>\n",
       "      <td>1000542</td>\n",
       "      <td>244360</td>\n",
       "      <td>40.837374</td>\n",
       "      <td>-73.941122</td>\n",
       "      <td>POINT (-73.941122 40.837374)</td>\n",
       "    </tr>\n",
       "    <tr>\n",
       "      <th>54573</th>\n",
       "      <td>265027445</td>\n",
       "      <td>03/13/2023</td>\n",
       "      <td>439.0</td>\n",
       "      <td>LARCENY,GRAND FROM OPEN AREAS, UNATTENDED</td>\n",
       "      <td>109.0</td>\n",
       "      <td>GRAND LARCENY</td>\n",
       "      <td>PL 1553001</td>\n",
       "      <td>F</td>\n",
       "      <td>Q</td>\n",
       "      <td>113</td>\n",
       "      <td>0</td>\n",
       "      <td>18-24</td>\n",
       "      <td>M</td>\n",
       "      <td>WHITE</td>\n",
       "      <td>1046399</td>\n",
       "      <td>187126</td>\n",
       "      <td>40.680077</td>\n",
       "      <td>-73.775929</td>\n",
       "      <td>POINT (-73.775929 40.680077)</td>\n",
       "    </tr>\n",
       "    <tr>\n",
       "      <th>54574</th>\n",
       "      <td>265277526</td>\n",
       "      <td>03/17/2023</td>\n",
       "      <td>101.0</td>\n",
       "      <td>ASSAULT 3</td>\n",
       "      <td>344.0</td>\n",
       "      <td>ASSAULT 3 &amp; RELATED OFFENSES</td>\n",
       "      <td>PL 1200001</td>\n",
       "      <td>M</td>\n",
       "      <td>Q</td>\n",
       "      <td>112</td>\n",
       "      <td>0</td>\n",
       "      <td>65+</td>\n",
       "      <td>M</td>\n",
       "      <td>ASIAN / PACIFIC ISLANDER</td>\n",
       "      <td>1024734</td>\n",
       "      <td>197982</td>\n",
       "      <td>40.709999</td>\n",
       "      <td>-73.853973</td>\n",
       "      <td>POINT (-73.853973 40.709999)</td>\n",
       "    </tr>\n",
       "    <tr>\n",
       "      <th>54575</th>\n",
       "      <td>265989716</td>\n",
       "      <td>03/31/2023</td>\n",
       "      <td>792.0</td>\n",
       "      <td>CRIMINAL POSSESSION WEAPON</td>\n",
       "      <td>118.0</td>\n",
       "      <td>DANGEROUS WEAPONS</td>\n",
       "      <td>PL 2650303</td>\n",
       "      <td>F</td>\n",
       "      <td>Q</td>\n",
       "      <td>114</td>\n",
       "      <td>11</td>\n",
       "      <td>25-44</td>\n",
       "      <td>M</td>\n",
       "      <td>WHITE</td>\n",
       "      <td>1006898</td>\n",
       "      <td>220358</td>\n",
       "      <td>40.771479</td>\n",
       "      <td>-73.918233</td>\n",
       "      <td>POINT (-73.91823339 40.7714791)</td>\n",
       "    </tr>\n",
       "  </tbody>\n",
       "</table>\n",
       "</div>"
      ],
      "text/plain": [
       "       ARREST_KEY ARREST_DATE  PD_CD  \\\n",
       "54571   265375648  03/20/2023  105.0   \n",
       "54572   265375611  03/20/2023  113.0   \n",
       "54573   265027445  03/13/2023  439.0   \n",
       "54574   265277526  03/17/2023  101.0   \n",
       "54575   265989716  03/31/2023  792.0   \n",
       "\n",
       "                                         PD_DESC  KY_CD  \\\n",
       "54571                          STRANGULATION 1ST  106.0   \n",
       "54572                      MENACING,UNCLASSIFIED  344.0   \n",
       "54573  LARCENY,GRAND FROM OPEN AREAS, UNATTENDED  109.0   \n",
       "54574                                  ASSAULT 3  344.0   \n",
       "54575                 CRIMINAL POSSESSION WEAPON  118.0   \n",
       "\n",
       "                          OFNS_DESC    LAW_CODE LAW_CAT_CD ARREST_BORO  \\\n",
       "54571                FELONY ASSAULT  PL 1211200          F           Q   \n",
       "54572  ASSAULT 3 & RELATED OFFENSES  PL 1201401          M           M   \n",
       "54573                 GRAND LARCENY  PL 1553001          F           Q   \n",
       "54574  ASSAULT 3 & RELATED OFFENSES  PL 1200001          M           Q   \n",
       "54575             DANGEROUS WEAPONS  PL 2650303          F           Q   \n",
       "\n",
       "       ARREST_PRECINCT  JURISDICTION_CODE AGE_GROUP PERP_SEX  \\\n",
       "54571              113                  0     25-44        M   \n",
       "54572               33                  0     18-24        M   \n",
       "54573              113                  0     18-24        M   \n",
       "54574              112                  0       65+        M   \n",
       "54575              114                 11     25-44        M   \n",
       "\n",
       "                      PERP_RACE  X_COORD_CD  Y_COORD_CD   Latitude  Longitude  \\\n",
       "54571  ASIAN / PACIFIC ISLANDER     1046399      187126  40.680077 -73.775929   \n",
       "54572            WHITE HISPANIC     1000542      244360  40.837374 -73.941122   \n",
       "54573                     WHITE     1046399      187126  40.680077 -73.775929   \n",
       "54574  ASIAN / PACIFIC ISLANDER     1024734      197982  40.709999 -73.853973   \n",
       "54575                     WHITE     1006898      220358  40.771479 -73.918233   \n",
       "\n",
       "              New Georeferenced Column  \n",
       "54571     POINT (-73.775929 40.680077)  \n",
       "54572     POINT (-73.941122 40.837374)  \n",
       "54573     POINT (-73.775929 40.680077)  \n",
       "54574     POINT (-73.853973 40.709999)  \n",
       "54575  POINT (-73.91823339 40.7714791)  "
      ]
     },
     "execution_count": 6,
     "metadata": {},
     "output_type": "execute_result"
    }
   ],
   "source": [
    "#Last five rows\n",
    "df.tail()"
   ]
  },
  {
   "cell_type": "code",
   "execution_count": 7,
   "metadata": {},
   "outputs": [
    {
     "data": {
      "text/plain": [
       "<AxesSubplot:>"
      ]
     },
     "execution_count": 7,
     "metadata": {},
     "output_type": "execute_result"
    },
    {
     "data": {
      "image/png": "[encoded data removed]",
      "text/plain": [
       "<Figure size 432x288 with 1 Axes>"
      ]
     },
     "metadata": {
      "needs_background": "light"
     },
     "output_type": "display_data"
    }
   ],
   "source": [
    "#Plotting heatmap to find null values\n",
    "sns.heatmap(df.isnull(),yticklabels=False,cbar=False,cmap='viridis')"
   ]
  },
  {
   "cell_type": "code",
   "execution_count": 8,
   "metadata": {},
   "outputs": [
    {
     "data": {
      "text/plain": [
       "True"
      ]
     },
     "execution_count": 8,
     "metadata": {},
     "output_type": "execute_result"
    }
   ],
   "source": [
    "#Asking if there's null values on the whole dataset\n",
    "df.isnull().values.any()"
   ]
  },
  {
   "cell_type": "code",
   "execution_count": 9,
   "metadata": {},
   "outputs": [
    {
     "data": {
      "text/plain": [
       "True"
      ]
     },
     "execution_count": 9,
     "metadata": {},
     "output_type": "execute_result"
    }
   ],
   "source": [
    "#Null values on 'PC_CD'\n",
    "df['PD_CD'].isnull().values.any()"
   ]
  },
  {
   "cell_type": "code",
   "execution_count": 10,
   "metadata": {},
   "outputs": [
    {
     "data": {
      "text/plain": [
       "251"
      ]
     },
     "execution_count": 10,
     "metadata": {},
     "output_type": "execute_result"
    }
   ],
   "source": [
    "#Number or null values on 'PC_CD' column\n",
    "df['PD_CD'].isnull().sum()"
   ]
  },
  {
   "cell_type": "code",
   "execution_count": 11,
   "metadata": {},
   "outputs": [
    {
     "data": {
      "text/plain": [
       "True"
      ]
     },
     "execution_count": 11,
     "metadata": {},
     "output_type": "execute_result"
    }
   ],
   "source": [
    "#Null values on 'KY_CD' column\n",
    "df['KY_CD'].isnull().values.any()"
   ]
  },
  {
   "cell_type": "code",
   "execution_count": 12,
   "metadata": {},
   "outputs": [
    {
     "data": {
      "text/plain": [
       "251"
      ]
     },
     "execution_count": 12,
     "metadata": {},
     "output_type": "execute_result"
    }
   ],
   "source": [
    "#Number of null values on 'KY_CD' column\n",
    "df['KY_CD'].isnull().sum()"
   ]
  },
  {
   "cell_type": "code",
   "execution_count": 13,
   "metadata": {},
   "outputs": [
    {
     "data": {
      "text/plain": [
       "True"
      ]
     },
     "execution_count": 13,
     "metadata": {},
     "output_type": "execute_result"
    }
   ],
   "source": [
    "#Null values on 'LAW_CAT_CD' column\n",
    "df['LAW_CAT_CD'].isnull().values.any()"
   ]
  },
  {
   "cell_type": "code",
   "execution_count": 14,
   "metadata": {},
   "outputs": [
    {
     "data": {
      "text/plain": [
       "420"
      ]
     },
     "execution_count": 14,
     "metadata": {},
     "output_type": "execute_result"
    }
   ],
   "source": [
    "#Number of null values on 'LAW_CAT_CD' column\n",
    "df['LAW_CAT_CD'].isnull().sum()"
   ]
  },
  {
   "cell_type": "code",
   "execution_count": 15,
   "metadata": {},
   "outputs": [],
   "source": [
    "#'PC_CD', KY_CD' and 'LAW_CAT_DC' columns have null values, therefore they won't be considered for this analysys.\n",
    "#I will compare offenses accross different boroughs and perpetrator sex; for that reason, I will define dataset to analyze\n",
    "df2 = df[['ARREST_KEY', 'OFNS_DESC', 'ARREST_BORO', 'PERP_SEX']]"
   ]
  },
  {
   "cell_type": "code",
   "execution_count": 16,
   "metadata": {},
   "outputs": [
    {
     "data": {
      "text/plain": [
       "True"
      ]
     },
     "execution_count": 16,
     "metadata": {},
     "output_type": "execute_result"
    }
   ],
   "source": [
    "#Confirm unique identifier 'ARREST_KEY'\n",
    "df2['ARREST_KEY'].is_unique"
   ]
  },
  {
   "cell_type": "code",
   "execution_count": 17,
   "metadata": {},
   "outputs": [
    {
     "data": {
      "text/html": [
       "<div>\n",
       "<style scoped>\n",
       "    .dataframe tbody tr th:only-of-type {\n",
       "        vertical-align: middle;\n",
       "    }\n",
       "\n",
       "    .dataframe tbody tr th {\n",
       "        vertical-align: top;\n",
       "    }\n",
       "\n",
       "    .dataframe thead th {\n",
       "        text-align: right;\n",
       "    }\n",
       "</style>\n",
       "<table border=\"1\" class=\"dataframe\">\n",
       "  <thead>\n",
       "    <tr style=\"text-align: right;\">\n",
       "      <th></th>\n",
       "      <th>ARREST_KEY</th>\n",
       "      <th>OFNS_DESC</th>\n",
       "      <th>ARREST_BORO</th>\n",
       "      <th>PERP_SEX</th>\n",
       "    </tr>\n",
       "  </thead>\n",
       "  <tbody>\n",
       "    <tr>\n",
       "      <th>0</th>\n",
       "      <td>263187871</td>\n",
       "      <td>FELONY ASSAULT</td>\n",
       "      <td>S</td>\n",
       "      <td>M</td>\n",
       "    </tr>\n",
       "    <tr>\n",
       "      <th>1</th>\n",
       "      <td>261368273</td>\n",
       "      <td>(null)</td>\n",
       "      <td>M</td>\n",
       "      <td>F</td>\n",
       "    </tr>\n",
       "    <tr>\n",
       "      <th>2</th>\n",
       "      <td>261667175</td>\n",
       "      <td>ASSAULT 3 &amp; RELATED OFFENSES</td>\n",
       "      <td>B</td>\n",
       "      <td>F</td>\n",
       "    </tr>\n",
       "    <tr>\n",
       "      <th>3</th>\n",
       "      <td>264298625</td>\n",
       "      <td>(null)</td>\n",
       "      <td>Q</td>\n",
       "      <td>M</td>\n",
       "    </tr>\n",
       "    <tr>\n",
       "      <th>4</th>\n",
       "      <td>261516485</td>\n",
       "      <td>ROBBERY</td>\n",
       "      <td>M</td>\n",
       "      <td>M</td>\n",
       "    </tr>\n",
       "    <tr>\n",
       "      <th>...</th>\n",
       "      <td>...</td>\n",
       "      <td>...</td>\n",
       "      <td>...</td>\n",
       "      <td>...</td>\n",
       "    </tr>\n",
       "    <tr>\n",
       "      <th>54571</th>\n",
       "      <td>265375648</td>\n",
       "      <td>FELONY ASSAULT</td>\n",
       "      <td>Q</td>\n",
       "      <td>M</td>\n",
       "    </tr>\n",
       "    <tr>\n",
       "      <th>54572</th>\n",
       "      <td>265375611</td>\n",
       "      <td>ASSAULT 3 &amp; RELATED OFFENSES</td>\n",
       "      <td>M</td>\n",
       "      <td>M</td>\n",
       "    </tr>\n",
       "    <tr>\n",
       "      <th>54573</th>\n",
       "      <td>265027445</td>\n",
       "      <td>GRAND LARCENY</td>\n",
       "      <td>Q</td>\n",
       "      <td>M</td>\n",
       "    </tr>\n",
       "    <tr>\n",
       "      <th>54574</th>\n",
       "      <td>265277526</td>\n",
       "      <td>ASSAULT 3 &amp; RELATED OFFENSES</td>\n",
       "      <td>Q</td>\n",
       "      <td>M</td>\n",
       "    </tr>\n",
       "    <tr>\n",
       "      <th>54575</th>\n",
       "      <td>265989716</td>\n",
       "      <td>DANGEROUS WEAPONS</td>\n",
       "      <td>Q</td>\n",
       "      <td>M</td>\n",
       "    </tr>\n",
       "  </tbody>\n",
       "</table>\n",
       "<p>54576 rows × 4 columns</p>\n",
       "</div>"
      ],
      "text/plain": [
       "       ARREST_KEY                     OFNS_DESC ARREST_BORO PERP_SEX\n",
       "0       263187871                FELONY ASSAULT           S        M\n",
       "1       261368273                        (null)           M        F\n",
       "2       261667175  ASSAULT 3 & RELATED OFFENSES           B        F\n",
       "3       264298625                        (null)           Q        M\n",
       "4       261516485                       ROBBERY           M        M\n",
       "...           ...                           ...         ...      ...\n",
       "54571   265375648                FELONY ASSAULT           Q        M\n",
       "54572   265375611  ASSAULT 3 & RELATED OFFENSES           M        M\n",
       "54573   265027445                 GRAND LARCENY           Q        M\n",
       "54574   265277526  ASSAULT 3 & RELATED OFFENSES           Q        M\n",
       "54575   265989716             DANGEROUS WEAPONS           Q        M\n",
       "\n",
       "[54576 rows x 4 columns]"
      ]
     },
     "execution_count": 17,
     "metadata": {},
     "output_type": "execute_result"
    }
   ],
   "source": [
    "#Selected dataset looks like this\n",
    "df2"
   ]
  },
  {
   "cell_type": "code",
   "execution_count": 18,
   "metadata": {},
   "outputs": [
    {
     "data": {
      "text/plain": [
       "ARREST_KEY      int64\n",
       "OFNS_DESC      object\n",
       "ARREST_BORO    object\n",
       "PERP_SEX       object\n",
       "dtype: object"
      ]
     },
     "execution_count": 18,
     "metadata": {},
     "output_type": "execute_result"
    }
   ],
   "source": [
    "#Determine datatypes in the filtered dataframe\n",
    "df2.dtypes"
   ]
  },
  {
   "cell_type": "code",
   "execution_count": 19,
   "metadata": {},
   "outputs": [
    {
     "data": {
      "text/plain": [
       "False"
      ]
     },
     "execution_count": 19,
     "metadata": {},
     "output_type": "execute_result"
    }
   ],
   "source": [
    "#Determine null values in the new dataset\n",
    "df2.isnull().values.any()"
   ]
  },
  {
   "cell_type": "code",
   "execution_count": 20,
   "metadata": {},
   "outputs": [
    {
     "data": {
      "text/plain": [
       "<AxesSubplot:>"
      ]
     },
     "execution_count": 20,
     "metadata": {},
     "output_type": "execute_result"
    },
    {
     "data": {
      "image/png": "[encoded data removed]",
      "text/plain": [
       "<Figure size 432x288 with 1 Axes>"
      ]
     },
     "metadata": {
      "needs_background": "light"
     },
     "output_type": "display_data"
    }
   ],
   "source": [
    "#Plotting heatmap to visually confirm no null values\n",
    "sns.heatmap(df2.isnull(),yticklabels=False,cbar=False,cmap='viridis')"
   ]
  },
  {
   "cell_type": "code",
   "execution_count": 21,
   "metadata": {},
   "outputs": [],
   "source": [
    "#Since there's no null values in the df2 dataset, no further data cleaning is needed!"
   ]
  },
  {
   "cell_type": "code",
   "execution_count": 22,
   "metadata": {},
   "outputs": [],
   "source": [
    "#Renaming column labels to make them more easy to read and saving them in a new dataframe\n",
    "df3 = df2.rename(columns={'ARREST_KEY': 'Key', 'OFNS_DESC': 'Offense', 'ARREST_BORO': 'Borough', 'PERP_SEX': 'Sex'})"
   ]
  },
  {
   "cell_type": "code",
   "execution_count": 23,
   "metadata": {},
   "outputs": [
    {
     "data": {
      "text/html": [
       "<div>\n",
       "<style scoped>\n",
       "    .dataframe tbody tr th:only-of-type {\n",
       "        vertical-align: middle;\n",
       "    }\n",
       "\n",
       "    .dataframe tbody tr th {\n",
       "        vertical-align: top;\n",
       "    }\n",
       "\n",
       "    .dataframe thead th {\n",
       "        text-align: right;\n",
       "    }\n",
       "</style>\n",
       "<table border=\"1\" class=\"dataframe\">\n",
       "  <thead>\n",
       "    <tr style=\"text-align: right;\">\n",
       "      <th></th>\n",
       "      <th>Key</th>\n",
       "      <th>Offense</th>\n",
       "      <th>Borough</th>\n",
       "      <th>Sex</th>\n",
       "    </tr>\n",
       "  </thead>\n",
       "  <tbody>\n",
       "    <tr>\n",
       "      <th>0</th>\n",
       "      <td>263187871</td>\n",
       "      <td>FELONY ASSAULT</td>\n",
       "      <td>S</td>\n",
       "      <td>M</td>\n",
       "    </tr>\n",
       "    <tr>\n",
       "      <th>1</th>\n",
       "      <td>261368273</td>\n",
       "      <td>(null)</td>\n",
       "      <td>M</td>\n",
       "      <td>F</td>\n",
       "    </tr>\n",
       "    <tr>\n",
       "      <th>2</th>\n",
       "      <td>261667175</td>\n",
       "      <td>ASSAULT 3 &amp; RELATED OFFENSES</td>\n",
       "      <td>B</td>\n",
       "      <td>F</td>\n",
       "    </tr>\n",
       "    <tr>\n",
       "      <th>3</th>\n",
       "      <td>264298625</td>\n",
       "      <td>(null)</td>\n",
       "      <td>Q</td>\n",
       "      <td>M</td>\n",
       "    </tr>\n",
       "    <tr>\n",
       "      <th>4</th>\n",
       "      <td>261516485</td>\n",
       "      <td>ROBBERY</td>\n",
       "      <td>M</td>\n",
       "      <td>M</td>\n",
       "    </tr>\n",
       "    <tr>\n",
       "      <th>...</th>\n",
       "      <td>...</td>\n",
       "      <td>...</td>\n",
       "      <td>...</td>\n",
       "      <td>...</td>\n",
       "    </tr>\n",
       "    <tr>\n",
       "      <th>54571</th>\n",
       "      <td>265375648</td>\n",
       "      <td>FELONY ASSAULT</td>\n",
       "      <td>Q</td>\n",
       "      <td>M</td>\n",
       "    </tr>\n",
       "    <tr>\n",
       "      <th>54572</th>\n",
       "      <td>265375611</td>\n",
       "      <td>ASSAULT 3 &amp; RELATED OFFENSES</td>\n",
       "      <td>M</td>\n",
       "      <td>M</td>\n",
       "    </tr>\n",
       "    <tr>\n",
       "      <th>54573</th>\n",
       "      <td>265027445</td>\n",
       "      <td>GRAND LARCENY</td>\n",
       "      <td>Q</td>\n",
       "      <td>M</td>\n",
       "    </tr>\n",
       "    <tr>\n",
       "      <th>54574</th>\n",
       "      <td>265277526</td>\n",
       "      <td>ASSAULT 3 &amp; RELATED OFFENSES</td>\n",
       "      <td>Q</td>\n",
       "      <td>M</td>\n",
       "    </tr>\n",
       "    <tr>\n",
       "      <th>54575</th>\n",
       "      <td>265989716</td>\n",
       "      <td>DANGEROUS WEAPONS</td>\n",
       "      <td>Q</td>\n",
       "      <td>M</td>\n",
       "    </tr>\n",
       "  </tbody>\n",
       "</table>\n",
       "<p>54576 rows × 4 columns</p>\n",
       "</div>"
      ],
      "text/plain": [
       "             Key                       Offense Borough Sex\n",
       "0      263187871                FELONY ASSAULT       S   M\n",
       "1      261368273                        (null)       M   F\n",
       "2      261667175  ASSAULT 3 & RELATED OFFENSES       B   F\n",
       "3      264298625                        (null)       Q   M\n",
       "4      261516485                       ROBBERY       M   M\n",
       "...          ...                           ...     ...  ..\n",
       "54571  265375648                FELONY ASSAULT       Q   M\n",
       "54572  265375611  ASSAULT 3 & RELATED OFFENSES       M   M\n",
       "54573  265027445                 GRAND LARCENY       Q   M\n",
       "54574  265277526  ASSAULT 3 & RELATED OFFENSES       Q   M\n",
       "54575  265989716             DANGEROUS WEAPONS       Q   M\n",
       "\n",
       "[54576 rows x 4 columns]"
      ]
     },
     "execution_count": 23,
     "metadata": {},
     "output_type": "execute_result"
    }
   ],
   "source": [
    "#Now table labels are more easy to read!\n",
    "df3"
   ]
  },
  {
   "cell_type": "code",
   "execution_count": 24,
   "metadata": {
    "scrolled": true
   },
   "outputs": [
    {
     "data": {
      "text/plain": [
       "Borough\n",
       "K    15208\n",
       "B    12856\n",
       "M    12559\n",
       "Q    11628\n",
       "S     2325\n",
       "Name: Key, dtype: int64"
      ]
     },
     "execution_count": 24,
     "metadata": {},
     "output_type": "execute_result"
    }
   ],
   "source": [
    "#Number of arrests per Borough. K= Brooklyn, B= Bronx, M= Manhattan, Q= Queens, S= Staten Island\n",
    "df3.groupby(['Borough'])['Key'].count().sort_values(ascending=False)"
   ]
  },
  {
   "cell_type": "code",
   "execution_count": 25,
   "metadata": {},
   "outputs": [
    {
     "data": {
      "text/plain": [
       "<AxesSubplot:xlabel='Borough'>"
      ]
     },
     "execution_count": 25,
     "metadata": {},
     "output_type": "execute_result"
    },
    {
     "data": {
      "image/png": "[encoded data removed]",
      "text/plain": [
       "<Figure size 432x288 with 1 Axes>"
      ]
     },
     "metadata": {
      "needs_background": "light"
     },
     "output_type": "display_data"
    }
   ],
   "source": [
    "#Graphic representation\n",
    "#Clearly, Brooklyn is the borough with the highest number of arrests, followed by the Bronx and Manhattan.\n",
    "df3.groupby(['Borough'])['Key'].count().sort_values(ascending=False).plot(kind=\"bar\")"
   ]
  },
  {
   "cell_type": "code",
   "execution_count": 26,
   "metadata": {},
   "outputs": [],
   "source": [
    "#For the purpose of our analisys, I will compare Brooklyn, the Bronx and Manhattan arrests\n",
    "#Let's filter Brooklin arrest data\n",
    "df4 = df3[df3['Borough'].str.contains('K')]"
   ]
  },
  {
   "cell_type": "code",
   "execution_count": 27,
   "metadata": {},
   "outputs": [
    {
     "data": {
      "text/html": [
       "<div>\n",
       "<style scoped>\n",
       "    .dataframe tbody tr th:only-of-type {\n",
       "        vertical-align: middle;\n",
       "    }\n",
       "\n",
       "    .dataframe tbody tr th {\n",
       "        vertical-align: top;\n",
       "    }\n",
       "\n",
       "    .dataframe thead th {\n",
       "        text-align: right;\n",
       "    }\n",
       "</style>\n",
       "<table border=\"1\" class=\"dataframe\">\n",
       "  <thead>\n",
       "    <tr style=\"text-align: right;\">\n",
       "      <th></th>\n",
       "      <th>Key</th>\n",
       "      <th>Offense</th>\n",
       "      <th>Borough</th>\n",
       "      <th>Sex</th>\n",
       "    </tr>\n",
       "  </thead>\n",
       "  <tbody>\n",
       "    <tr>\n",
       "      <th>7</th>\n",
       "      <td>262291240</td>\n",
       "      <td>ASSAULT 3 &amp; RELATED OFFENSES</td>\n",
       "      <td>K</td>\n",
       "      <td>M</td>\n",
       "    </tr>\n",
       "    <tr>\n",
       "      <th>8</th>\n",
       "      <td>261927480</td>\n",
       "      <td>ASSAULT 3 &amp; RELATED OFFENSES</td>\n",
       "      <td>K</td>\n",
       "      <td>M</td>\n",
       "    </tr>\n",
       "    <tr>\n",
       "      <th>9</th>\n",
       "      <td>261823038</td>\n",
       "      <td>FELONY ASSAULT</td>\n",
       "      <td>K</td>\n",
       "      <td>M</td>\n",
       "    </tr>\n",
       "    <tr>\n",
       "      <th>11</th>\n",
       "      <td>262219079</td>\n",
       "      <td>BURGLARY</td>\n",
       "      <td>K</td>\n",
       "      <td>M</td>\n",
       "    </tr>\n",
       "    <tr>\n",
       "      <th>14</th>\n",
       "      <td>264207901</td>\n",
       "      <td>RAPE</td>\n",
       "      <td>K</td>\n",
       "      <td>M</td>\n",
       "    </tr>\n",
       "    <tr>\n",
       "      <th>...</th>\n",
       "      <td>...</td>\n",
       "      <td>...</td>\n",
       "      <td>...</td>\n",
       "      <td>...</td>\n",
       "    </tr>\n",
       "    <tr>\n",
       "      <th>54559</th>\n",
       "      <td>265228364</td>\n",
       "      <td>VEHICLE AND TRAFFIC LAWS</td>\n",
       "      <td>K</td>\n",
       "      <td>M</td>\n",
       "    </tr>\n",
       "    <tr>\n",
       "      <th>54560</th>\n",
       "      <td>264853462</td>\n",
       "      <td>ROBBERY</td>\n",
       "      <td>K</td>\n",
       "      <td>M</td>\n",
       "    </tr>\n",
       "    <tr>\n",
       "      <th>54565</th>\n",
       "      <td>265808105</td>\n",
       "      <td>CRIMINAL TRESPASS</td>\n",
       "      <td>K</td>\n",
       "      <td>M</td>\n",
       "    </tr>\n",
       "    <tr>\n",
       "      <th>54567</th>\n",
       "      <td>265546491</td>\n",
       "      <td>ASSAULT 3 &amp; RELATED OFFENSES</td>\n",
       "      <td>K</td>\n",
       "      <td>M</td>\n",
       "    </tr>\n",
       "    <tr>\n",
       "      <th>54568</th>\n",
       "      <td>265763687</td>\n",
       "      <td>ANTICIPATORY OFFENSES</td>\n",
       "      <td>K</td>\n",
       "      <td>M</td>\n",
       "    </tr>\n",
       "  </tbody>\n",
       "</table>\n",
       "<p>15208 rows × 4 columns</p>\n",
       "</div>"
      ],
      "text/plain": [
       "             Key                       Offense Borough Sex\n",
       "7      262291240  ASSAULT 3 & RELATED OFFENSES       K   M\n",
       "8      261927480  ASSAULT 3 & RELATED OFFENSES       K   M\n",
       "9      261823038                FELONY ASSAULT       K   M\n",
       "11     262219079                      BURGLARY       K   M\n",
       "14     264207901                          RAPE       K   M\n",
       "...          ...                           ...     ...  ..\n",
       "54559  265228364      VEHICLE AND TRAFFIC LAWS       K   M\n",
       "54560  264853462                       ROBBERY       K   M\n",
       "54565  265808105             CRIMINAL TRESPASS       K   M\n",
       "54567  265546491  ASSAULT 3 & RELATED OFFENSES       K   M\n",
       "54568  265763687         ANTICIPATORY OFFENSES       K   M\n",
       "\n",
       "[15208 rows x 4 columns]"
      ]
     },
     "execution_count": 27,
     "metadata": {},
     "output_type": "execute_result"
    }
   ],
   "source": [
    "df4"
   ]
  },
  {
   "cell_type": "code",
   "execution_count": 28,
   "metadata": {},
   "outputs": [
    {
     "data": {
      "text/plain": [
       "15208"
      ]
     },
     "execution_count": 28,
     "metadata": {},
     "output_type": "execute_result"
    }
   ],
   "source": [
    "#Total of Offenses in Brooklyn\n",
    "k_offenses = df4.groupby(['Offense'])['Key'].count().sum()\n",
    "k_offenses"
   ]
  },
  {
   "cell_type": "code",
   "execution_count": 29,
   "metadata": {},
   "outputs": [
    {
     "data": {
      "text/plain": [
       "Offense\n",
       "ASSAULT 3 & RELATED OFFENSES            2106\n",
       "FELONY ASSAULT                          1393\n",
       "PETIT LARCENY                           1338\n",
       "MISCELLANEOUS PENAL LAW                 1191\n",
       "VEHICLE AND TRAFFIC LAWS                1140\n",
       "DANGEROUS DRUGS                          966\n",
       "CRIMINAL MISCHIEF & RELATED OF           765\n",
       "DANGEROUS WEAPONS                        762\n",
       "ROBBERY                                  671\n",
       "GRAND LARCENY                            607\n",
       "BURGLARY                                 541\n",
       "OTHER OFFENSES RELATED TO THEF           485\n",
       "OFFENSES AGAINST PUBLIC ADMINI           321\n",
       "OFF. AGNST PUB ORD SENSBLTY &            307\n",
       "FORGERY                                  301\n",
       "OFFENSES INVOLVING FRAUD                 261\n",
       "SEX CRIMES                               244\n",
       "OTHER TRAFFIC INFRACTION                 227\n",
       "POSSESSION OF STOLEN PROPERTY            226\n",
       "CRIMINAL TRESPASS                        186\n",
       "INTOXICATED & IMPAIRED DRIVING           178\n",
       "OTHER STATE LAWS                         144\n",
       "GRAND LARCENY OF MOTOR VEHICLE           103\n",
       "MURDER & NON-NEGL. MANSLAUGHTE            83\n",
       "NYS LAWS-UNCLASSIFIED FELONY              76\n",
       "OFFENSES AGAINST THE PERSON               64\n",
       "RAPE                                      62\n",
       "GAMBLING                                  52\n",
       "FRAUDS                                    51\n",
       "BURGLAR'S TOOLS                           45\n",
       "FOR OTHER AUTHORITIES                     43\n",
       "UNAUTHORIZED USE OF A VEHICLE             42\n",
       "OTHER STATE LAWS (NON PENAL LA            39\n",
       "INTOXICATED/IMPAIRED DRIVING              37\n",
       "PROSTITUTION & RELATED OFFENSES           25\n",
       "ADMINISTRATIVE CODE                       21\n",
       "(null)                                    21\n",
       "THEFT-FRAUD                               13\n",
       "ALCOHOLIC BEVERAGE CONTROL LAW            11\n",
       "HARRASSMENT 2                             10\n",
       "KIDNAPPING & RELATED OFFENSES              7\n",
       "ARSON                                      7\n",
       "OFFENSES RELATED TO CHILDREN               6\n",
       "CANNABIS RELATED OFFENSES                  6\n",
       "ENDAN WELFARE INCOMP                       5\n",
       "MOVING INFRACTIONS                         4\n",
       "ANTICIPATORY OFFENSES                      4\n",
       "HOMICIDE-NEGLIGENT,UNCLASSIFIE             2\n",
       "OFFENSES AGAINST PUBLIC SAFETY             2\n",
       "CHILD ABANDONMENT/NON SUPPORT              2\n",
       "KIDNAPPING                                 2\n",
       "DISORDERLY CONDUCT                         1\n",
       "AGRICULTURE & MRKTS LAW-UNCLASSIFIED       1\n",
       "DISRUPTION OF A RELIGIOUS SERV             1\n",
       "Name: Key, dtype: int64"
      ]
     },
     "execution_count": 29,
     "metadata": {},
     "output_type": "execute_result"
    }
   ],
   "source": [
    "#Number of offenses in Brooklyn per category\n",
    "df4.groupby(['Offense'])['Key'].count().sort_values(ascending=False)"
   ]
  },
  {
   "cell_type": "code",
   "execution_count": 30,
   "metadata": {},
   "outputs": [],
   "source": [
    "k_assault3 = 2106"
   ]
  },
  {
   "cell_type": "code",
   "execution_count": 31,
   "metadata": {},
   "outputs": [
    {
     "data": {
      "text/plain": [
       "'13.85'"
      ]
     },
     "execution_count": 31,
     "metadata": {},
     "output_type": "execute_result"
    }
   ],
   "source": [
    "#% of 'Assault 3 & Related Offenses in Brooklyn'\n",
    "format(k_assault3 / k_offenses * 100, \".2f\")"
   ]
  },
  {
   "cell_type": "code",
   "execution_count": 32,
   "metadata": {},
   "outputs": [],
   "source": [
    "#Since \"Assault 3 & Related Offenses\" is the top offense in Brooklyn with 13.85% of all offenses, \n",
    "#let's filter out other offenses and save it in a separate dataframe\n",
    "df5 = df4[df4['Offense'].str.contains('ASSAULT 3 & RELATED OFFENSES')]"
   ]
  },
  {
   "cell_type": "code",
   "execution_count": 33,
   "metadata": {},
   "outputs": [
    {
     "data": {
      "text/plain": [
       "Sex\n",
       "M    1559\n",
       "F     525\n",
       "U      22\n",
       "Name: Key, dtype: int64"
      ]
     },
     "execution_count": 33,
     "metadata": {},
     "output_type": "execute_result"
    }
   ],
   "source": [
    "#Count of Sex of \"Assault 3 & Related Offenses\" in Brooklyn\n",
    "df5.groupby(['Sex'])['Key'].count().sort_values(ascending=False)"
   ]
  },
  {
   "cell_type": "code",
   "execution_count": 34,
   "metadata": {},
   "outputs": [],
   "source": [
    "k_sex = 1559\n",
    "k_sex2 = 525\n",
    "k_sex3 = 22"
   ]
  },
  {
   "cell_type": "code",
   "execution_count": 35,
   "metadata": {},
   "outputs": [
    {
     "data": {
      "text/plain": [
       "'74.03'"
      ]
     },
     "execution_count": 35,
     "metadata": {},
     "output_type": "execute_result"
    }
   ],
   "source": [
    "#74.03% of the offenses in Brooklyn are committed by male perpetrators\n",
    "k_sex_mp = format(k_sex / k_assault3 * 100, \".2f\")\n",
    "k_sex_mp"
   ]
  },
  {
   "cell_type": "code",
   "execution_count": 36,
   "metadata": {},
   "outputs": [
    {
     "data": {
      "text/plain": [
       "'24.93'"
      ]
     },
     "execution_count": 36,
     "metadata": {},
     "output_type": "execute_result"
    }
   ],
   "source": [
    "#24.93% of the offenses in Brooklyn are committed by female perpetrators\n",
    "k_sex_fp = format(k_sex2 / k_assault3 * 100, \".2f\")\n",
    "k_sex_fp"
   ]
  },
  {
   "cell_type": "code",
   "execution_count": 37,
   "metadata": {},
   "outputs": [
    {
     "data": {
      "text/plain": [
       "'1.04'"
      ]
     },
     "execution_count": 37,
     "metadata": {},
     "output_type": "execute_result"
    }
   ],
   "source": [
    "#1.04% of the offenses in Brooklyn are committed by undefined gender perpetrators\n",
    "k_sex_up = format(k_sex3 / k_assault3 * 100, \".2f\")\n",
    "k_sex_up"
   ]
  },
  {
   "cell_type": "code",
   "execution_count": 38,
   "metadata": {},
   "outputs": [],
   "source": [
    "#Let's analyze Manhattan\n",
    "df6 = df3[df3['Borough'].str.contains('M')]"
   ]
  },
  {
   "cell_type": "code",
   "execution_count": 39,
   "metadata": {},
   "outputs": [
    {
     "data": {
      "text/html": [
       "<div>\n",
       "<style scoped>\n",
       "    .dataframe tbody tr th:only-of-type {\n",
       "        vertical-align: middle;\n",
       "    }\n",
       "\n",
       "    .dataframe tbody tr th {\n",
       "        vertical-align: top;\n",
       "    }\n",
       "\n",
       "    .dataframe thead th {\n",
       "        text-align: right;\n",
       "    }\n",
       "</style>\n",
       "<table border=\"1\" class=\"dataframe\">\n",
       "  <thead>\n",
       "    <tr style=\"text-align: right;\">\n",
       "      <th></th>\n",
       "      <th>Key</th>\n",
       "      <th>Offense</th>\n",
       "      <th>Borough</th>\n",
       "      <th>Sex</th>\n",
       "    </tr>\n",
       "  </thead>\n",
       "  <tbody>\n",
       "    <tr>\n",
       "      <th>1</th>\n",
       "      <td>261368273</td>\n",
       "      <td>(null)</td>\n",
       "      <td>M</td>\n",
       "      <td>F</td>\n",
       "    </tr>\n",
       "    <tr>\n",
       "      <th>4</th>\n",
       "      <td>261516485</td>\n",
       "      <td>ROBBERY</td>\n",
       "      <td>M</td>\n",
       "      <td>M</td>\n",
       "    </tr>\n",
       "    <tr>\n",
       "      <th>5</th>\n",
       "      <td>261273897</td>\n",
       "      <td>ASSAULT 3 &amp; RELATED OFFENSES</td>\n",
       "      <td>M</td>\n",
       "      <td>F</td>\n",
       "    </tr>\n",
       "    <tr>\n",
       "      <th>40</th>\n",
       "      <td>265956360</td>\n",
       "      <td>FELONY ASSAULT</td>\n",
       "      <td>M</td>\n",
       "      <td>M</td>\n",
       "    </tr>\n",
       "    <tr>\n",
       "      <th>43</th>\n",
       "      <td>262504910</td>\n",
       "      <td>PETIT LARCENY</td>\n",
       "      <td>M</td>\n",
       "      <td>M</td>\n",
       "    </tr>\n",
       "    <tr>\n",
       "      <th>...</th>\n",
       "      <td>...</td>\n",
       "      <td>...</td>\n",
       "      <td>...</td>\n",
       "      <td>...</td>\n",
       "    </tr>\n",
       "    <tr>\n",
       "      <th>54556</th>\n",
       "      <td>265984380</td>\n",
       "      <td>PETIT LARCENY</td>\n",
       "      <td>M</td>\n",
       "      <td>M</td>\n",
       "    </tr>\n",
       "    <tr>\n",
       "      <th>54564</th>\n",
       "      <td>265584581</td>\n",
       "      <td>ROBBERY</td>\n",
       "      <td>M</td>\n",
       "      <td>M</td>\n",
       "    </tr>\n",
       "    <tr>\n",
       "      <th>54569</th>\n",
       "      <td>265792485</td>\n",
       "      <td>FELONY ASSAULT</td>\n",
       "      <td>M</td>\n",
       "      <td>F</td>\n",
       "    </tr>\n",
       "    <tr>\n",
       "      <th>54570</th>\n",
       "      <td>265798114</td>\n",
       "      <td>AGRICULTURE &amp; MRKTS LAW-UNCLASSIFIED</td>\n",
       "      <td>M</td>\n",
       "      <td>M</td>\n",
       "    </tr>\n",
       "    <tr>\n",
       "      <th>54572</th>\n",
       "      <td>265375611</td>\n",
       "      <td>ASSAULT 3 &amp; RELATED OFFENSES</td>\n",
       "      <td>M</td>\n",
       "      <td>M</td>\n",
       "    </tr>\n",
       "  </tbody>\n",
       "</table>\n",
       "<p>12559 rows × 4 columns</p>\n",
       "</div>"
      ],
      "text/plain": [
       "             Key                               Offense Borough Sex\n",
       "1      261368273                                (null)       M   F\n",
       "4      261516485                               ROBBERY       M   M\n",
       "5      261273897          ASSAULT 3 & RELATED OFFENSES       M   F\n",
       "40     265956360                        FELONY ASSAULT       M   M\n",
       "43     262504910                         PETIT LARCENY       M   M\n",
       "...          ...                                   ...     ...  ..\n",
       "54556  265984380                         PETIT LARCENY       M   M\n",
       "54564  265584581                               ROBBERY       M   M\n",
       "54569  265792485                        FELONY ASSAULT       M   F\n",
       "54570  265798114  AGRICULTURE & MRKTS LAW-UNCLASSIFIED       M   M\n",
       "54572  265375611          ASSAULT 3 & RELATED OFFENSES       M   M\n",
       "\n",
       "[12559 rows x 4 columns]"
      ]
     },
     "execution_count": 39,
     "metadata": {},
     "output_type": "execute_result"
    }
   ],
   "source": [
    "df6"
   ]
  },
  {
   "cell_type": "code",
   "execution_count": 40,
   "metadata": {},
   "outputs": [
    {
     "data": {
      "text/plain": [
       "12559"
      ]
     },
     "execution_count": 40,
     "metadata": {},
     "output_type": "execute_result"
    }
   ],
   "source": [
    "#Total of Offenses in Manhattan in a separate dataframe\n",
    "m_offenses = df6.groupby(['Offense'])['Key'].count().sum()\n",
    "m_offenses"
   ]
  },
  {
   "cell_type": "code",
   "execution_count": 41,
   "metadata": {},
   "outputs": [
    {
     "data": {
      "text/plain": [
       "Offense\n",
       "PETIT LARCENY                           2003\n",
       "ASSAULT 3 & RELATED OFFENSES            1530\n",
       "DANGEROUS DRUGS                         1185\n",
       "GRAND LARCENY                            942\n",
       "FELONY ASSAULT                           925\n",
       "ROBBERY                                  630\n",
       "CRIMINAL MISCHIEF & RELATED OF           596\n",
       "BURGLARY                                 556\n",
       "MISCELLANEOUS PENAL LAW                  532\n",
       "VEHICLE AND TRAFFIC LAWS                 407\n",
       "DANGEROUS WEAPONS                        373\n",
       "OFFENSES AGAINST PUBLIC ADMINI           345\n",
       "OFFENSES INVOLVING FRAUD                 336\n",
       "SEX CRIMES                               249\n",
       "FOR OTHER AUTHORITIES                    237\n",
       "OTHER OFFENSES RELATED TO THEF           208\n",
       "OFF. AGNST PUB ORD SENSBLTY &            208\n",
       "FORGERY                                  189\n",
       "POSSESSION OF STOLEN PROPERTY            183\n",
       "CRIMINAL TRESPASS                        148\n",
       "MURDER & NON-NEGL. MANSLAUGHTE            88\n",
       "INTOXICATED & IMPAIRED DRIVING            81\n",
       "OTHER TRAFFIC INFRACTION                  80\n",
       "NYS LAWS-UNCLASSIFIED FELONY              78\n",
       "OFFENSES AGAINST THE PERSON               67\n",
       "BURGLAR'S TOOLS                           62\n",
       "GRAND LARCENY OF MOTOR VEHICLE            46\n",
       "FRAUDS                                    42\n",
       "THEFT OF SERVICES                         28\n",
       "UNAUTHORIZED USE OF A VEHICLE             23\n",
       "OTHER STATE LAWS                          21\n",
       "(null)                                    17\n",
       "RAPE                                      17\n",
       "THEFT-FRAUD                               17\n",
       "CANNABIS RELATED OFFENSES                 17\n",
       "JOSTLING                                  12\n",
       "OTHER STATE LAWS (NON PENAL LA            11\n",
       "INTOXICATED/IMPAIRED DRIVING              11\n",
       "ARSON                                     10\n",
       "GAMBLING                                   8\n",
       "PROSTITUTION & RELATED OFFENSES            8\n",
       "FRAUDULENT ACCOSTING                       5\n",
       "HARRASSMENT 2                              5\n",
       "DISORDERLY CONDUCT                         4\n",
       "ADMINISTRATIVE CODE                        4\n",
       "MOVING INFRACTIONS                         3\n",
       "KIDNAPPING & RELATED OFFENSES              2\n",
       "FELONY SEX CRIMES                          2\n",
       "ANTICIPATORY OFFENSES                      2\n",
       "AGRICULTURE & MRKTS LAW-UNCLASSIFIED       2\n",
       "OFFENSES AGAINST PUBLIC SAFETY             2\n",
       "CHILD ABANDONMENT/NON SUPPORT              1\n",
       "ENDAN WELFARE INCOMP                       1\n",
       "Name: Key, dtype: int64"
      ]
     },
     "execution_count": 41,
     "metadata": {},
     "output_type": "execute_result"
    }
   ],
   "source": [
    "#Number of offenses in Manhattan per category\n",
    "df6.groupby(['Offense'])['Key'].count().sort_values(ascending=False)"
   ]
  },
  {
   "cell_type": "code",
   "execution_count": 42,
   "metadata": {},
   "outputs": [],
   "source": [
    "#Assault 3 & Related Offenses comes second in Manhattan\n",
    "m_assault3 = 1530"
   ]
  },
  {
   "cell_type": "code",
   "execution_count": 43,
   "metadata": {},
   "outputs": [
    {
     "data": {
      "text/plain": [
       "'12.18'"
      ]
     },
     "execution_count": 43,
     "metadata": {},
     "output_type": "execute_result"
    }
   ],
   "source": [
    "#% of 'Assault 3 & Related Offenses in Manhattan'\n",
    "format(m_assault3 / m_offenses * 100, \".2f\")"
   ]
  },
  {
   "cell_type": "code",
   "execution_count": 44,
   "metadata": {},
   "outputs": [],
   "source": [
    "#To compare Assault 3 & Related Offenses with Brooklyn and other counties, \n",
    "#let's filter out other offenses and save it in a separate dataframe\n",
    "df7 = df6[df6['Offense'].str.contains('ASSAULT 3 & RELATED OFFENSES')]"
   ]
  },
  {
   "cell_type": "code",
   "execution_count": 45,
   "metadata": {},
   "outputs": [
    {
     "data": {
      "text/plain": [
       "Sex\n",
       "M    1153\n",
       "F     357\n",
       "U      20\n",
       "Name: Key, dtype: int64"
      ]
     },
     "execution_count": 45,
     "metadata": {},
     "output_type": "execute_result"
    }
   ],
   "source": [
    "#Count of Sex of \"Assault 3 & Related Offenses\" in Manhattan\n",
    "df7.groupby(['Sex'])['Key'].count().sort_values(ascending=False)"
   ]
  },
  {
   "cell_type": "code",
   "execution_count": 46,
   "metadata": {},
   "outputs": [],
   "source": [
    "m_sex = 1153\n",
    "m_sex2 = 357\n",
    "m_sex3 = 20"
   ]
  },
  {
   "cell_type": "code",
   "execution_count": 47,
   "metadata": {},
   "outputs": [
    {
     "data": {
      "text/plain": [
       "'75.36'"
      ]
     },
     "execution_count": 47,
     "metadata": {},
     "output_type": "execute_result"
    }
   ],
   "source": [
    "#75.36% of the offenses in Manhattan are committed by male perpetrators\n",
    "m_sex_mp = format(m_sex / m_assault3 * 100, \".2f\")\n",
    "m_sex_mp"
   ]
  },
  {
   "cell_type": "code",
   "execution_count": 48,
   "metadata": {},
   "outputs": [
    {
     "data": {
      "text/plain": [
       "'23.33'"
      ]
     },
     "execution_count": 48,
     "metadata": {},
     "output_type": "execute_result"
    }
   ],
   "source": [
    "#23.33% of the offenses in Manhattan are committed by female perpetrators\n",
    "m_sex_fp = format(m_sex2 / m_assault3 * 100, \".2f\")\n",
    "m_sex_fp"
   ]
  },
  {
   "cell_type": "code",
   "execution_count": 49,
   "metadata": {},
   "outputs": [
    {
     "data": {
      "text/plain": [
       "'1.31'"
      ]
     },
     "execution_count": 49,
     "metadata": {},
     "output_type": "execute_result"
    }
   ],
   "source": [
    "#1.31% of the offenses in Manhattan are committed by undefined gender perpetrators\n",
    "m_sex_up = format(m_sex3 / m_assault3 * 100, \".2f\")\n",
    "m_sex_up"
   ]
  },
  {
   "cell_type": "code",
   "execution_count": 50,
   "metadata": {},
   "outputs": [
    {
     "data": {
      "text/html": [
       "<div>\n",
       "<style scoped>\n",
       "    .dataframe tbody tr th:only-of-type {\n",
       "        vertical-align: middle;\n",
       "    }\n",
       "\n",
       "    .dataframe tbody tr th {\n",
       "        vertical-align: top;\n",
       "    }\n",
       "\n",
       "    .dataframe thead th {\n",
       "        text-align: right;\n",
       "    }\n",
       "</style>\n",
       "<table border=\"1\" class=\"dataframe\">\n",
       "  <thead>\n",
       "    <tr style=\"text-align: right;\">\n",
       "      <th></th>\n",
       "      <th>Key</th>\n",
       "      <th>Offense</th>\n",
       "      <th>Borough</th>\n",
       "      <th>Sex</th>\n",
       "    </tr>\n",
       "  </thead>\n",
       "  <tbody>\n",
       "    <tr>\n",
       "      <th>2</th>\n",
       "      <td>261667175</td>\n",
       "      <td>ASSAULT 3 &amp; RELATED OFFENSES</td>\n",
       "      <td>B</td>\n",
       "      <td>F</td>\n",
       "    </tr>\n",
       "    <tr>\n",
       "      <th>12</th>\n",
       "      <td>263076926</td>\n",
       "      <td>ASSAULT 3 &amp; RELATED OFFENSES</td>\n",
       "      <td>B</td>\n",
       "      <td>F</td>\n",
       "    </tr>\n",
       "    <tr>\n",
       "      <th>17</th>\n",
       "      <td>262772006</td>\n",
       "      <td>SEX CRIMES</td>\n",
       "      <td>B</td>\n",
       "      <td>M</td>\n",
       "    </tr>\n",
       "    <tr>\n",
       "      <th>21</th>\n",
       "      <td>263738796</td>\n",
       "      <td>FELONY ASSAULT</td>\n",
       "      <td>B</td>\n",
       "      <td>M</td>\n",
       "    </tr>\n",
       "    <tr>\n",
       "      <th>23</th>\n",
       "      <td>263387725</td>\n",
       "      <td>MISCELLANEOUS PENAL LAW</td>\n",
       "      <td>B</td>\n",
       "      <td>M</td>\n",
       "    </tr>\n",
       "    <tr>\n",
       "      <th>...</th>\n",
       "      <td>...</td>\n",
       "      <td>...</td>\n",
       "      <td>...</td>\n",
       "      <td>...</td>\n",
       "    </tr>\n",
       "    <tr>\n",
       "      <th>54555</th>\n",
       "      <td>265743326</td>\n",
       "      <td>FELONY ASSAULT</td>\n",
       "      <td>B</td>\n",
       "      <td>M</td>\n",
       "    </tr>\n",
       "    <tr>\n",
       "      <th>54557</th>\n",
       "      <td>265414752</td>\n",
       "      <td>OTHER OFFENSES RELATED TO THEF</td>\n",
       "      <td>B</td>\n",
       "      <td>M</td>\n",
       "    </tr>\n",
       "    <tr>\n",
       "      <th>54561</th>\n",
       "      <td>265698722</td>\n",
       "      <td>VEHICLE AND TRAFFIC LAWS</td>\n",
       "      <td>B</td>\n",
       "      <td>M</td>\n",
       "    </tr>\n",
       "    <tr>\n",
       "      <th>54562</th>\n",
       "      <td>265891025</td>\n",
       "      <td>ASSAULT 3 &amp; RELATED OFFENSES</td>\n",
       "      <td>B</td>\n",
       "      <td>M</td>\n",
       "    </tr>\n",
       "    <tr>\n",
       "      <th>54566</th>\n",
       "      <td>265115010</td>\n",
       "      <td>ROBBERY</td>\n",
       "      <td>B</td>\n",
       "      <td>M</td>\n",
       "    </tr>\n",
       "  </tbody>\n",
       "</table>\n",
       "<p>12856 rows × 4 columns</p>\n",
       "</div>"
      ],
      "text/plain": [
       "             Key                         Offense Borough Sex\n",
       "2      261667175    ASSAULT 3 & RELATED OFFENSES       B   F\n",
       "12     263076926    ASSAULT 3 & RELATED OFFENSES       B   F\n",
       "17     262772006                      SEX CRIMES       B   M\n",
       "21     263738796                  FELONY ASSAULT       B   M\n",
       "23     263387725         MISCELLANEOUS PENAL LAW       B   M\n",
       "...          ...                             ...     ...  ..\n",
       "54555  265743326                  FELONY ASSAULT       B   M\n",
       "54557  265414752  OTHER OFFENSES RELATED TO THEF       B   M\n",
       "54561  265698722        VEHICLE AND TRAFFIC LAWS       B   M\n",
       "54562  265891025    ASSAULT 3 & RELATED OFFENSES       B   M\n",
       "54566  265115010                         ROBBERY       B   M\n",
       "\n",
       "[12856 rows x 4 columns]"
      ]
     },
     "execution_count": 50,
     "metadata": {},
     "output_type": "execute_result"
    }
   ],
   "source": [
    "#Let's analyze the Bronx in a separate dataframe\n",
    "df8 = df3[df3['Borough'].str.contains('B')]\n",
    "df8"
   ]
  },
  {
   "cell_type": "code",
   "execution_count": 51,
   "metadata": {},
   "outputs": [
    {
     "data": {
      "text/plain": [
       "12856"
      ]
     },
     "execution_count": 51,
     "metadata": {},
     "output_type": "execute_result"
    }
   ],
   "source": [
    "#Total of Offenses in Bronx in a separate dataframe\n",
    "b_offenses = df8.groupby(['Offense'])['Key'].count().sum()\n",
    "b_offenses"
   ]
  },
  {
   "cell_type": "code",
   "execution_count": 52,
   "metadata": {},
   "outputs": [
    {
     "data": {
      "text/plain": [
       "Offense\n",
       "ASSAULT 3 & RELATED OFFENSES            2212\n",
       "FELONY ASSAULT                          1287\n",
       "PETIT LARCENY                           1185\n",
       "VEHICLE AND TRAFFIC LAWS                 901\n",
       "ROBBERY                                  796\n",
       "DANGEROUS DRUGS                          791\n",
       "CRIMINAL MISCHIEF & RELATED OF           589\n",
       "MISCELLANEOUS PENAL LAW                  543\n",
       "DANGEROUS WEAPONS                        506\n",
       "OFFENSES AGAINST PUBLIC ADMINI           464\n",
       "OFFENSES INVOLVING FRAUD                 404\n",
       "OTHER OFFENSES RELATED TO THEF           400\n",
       "GRAND LARCENY                            320\n",
       "BURGLARY                                 313\n",
       "OFF. AGNST PUB ORD SENSBLTY &            254\n",
       "SEX CRIMES                               253\n",
       "POSSESSION OF STOLEN PROPERTY            241\n",
       "FORGERY                                  190\n",
       "GRAND LARCENY OF MOTOR VEHICLE           161\n",
       "MURDER & NON-NEGL. MANSLAUGHTE           135\n",
       "INTOXICATED & IMPAIRED DRIVING           122\n",
       "OTHER TRAFFIC INFRACTION                 114\n",
       "OFFENSES AGAINST THE PERSON               99\n",
       "FOR OTHER AUTHORITIES                     90\n",
       "NYS LAWS-UNCLASSIFIED FELONY              71\n",
       "CRIMINAL TRESPASS                         59\n",
       "RAPE                                      53\n",
       "FRAUDS                                    44\n",
       "UNAUTHORIZED USE OF A VEHICLE             37\n",
       "(null)                                    29\n",
       "OTHER STATE LAWS                          26\n",
       "INTOXICATED/IMPAIRED DRIVING              23\n",
       "CANNABIS RELATED OFFENSES                 23\n",
       "BURGLAR'S TOOLS                           21\n",
       "OTHER STATE LAWS (NON PENAL LA            20\n",
       "ARSON                                     18\n",
       "OFFENSES AGAINST PUBLIC SAFETY            12\n",
       "GAMBLING                                   8\n",
       "THEFT OF SERVICES                          7\n",
       "THEFT-FRAUD                                7\n",
       "KIDNAPPING & RELATED OFFENSES              6\n",
       "OTHER STATE LAWS (NON PENAL LAW)           5\n",
       "ADMINISTRATIVE CODE                        3\n",
       "HOMICIDE-NEGLIGENT,UNCLASSIFIE             3\n",
       "ALCOHOLIC BEVERAGE CONTROL LAW             3\n",
       "AGRICULTURE & MRKTS LAW-UNCLASSIFIED       2\n",
       "HARRASSMENT 2                              2\n",
       "CHILD ABANDONMENT/NON SUPPORT              1\n",
       "OFFENSES RELATED TO CHILDREN               1\n",
       "FRAUDULENT ACCOSTING                       1\n",
       "PROSTITUTION & RELATED OFFENSES            1\n",
       "Name: Key, dtype: int64"
      ]
     },
     "execution_count": 52,
     "metadata": {},
     "output_type": "execute_result"
    }
   ],
   "source": [
    "#Number of offenses in Bronx per category\n",
    "df8.groupby(['Offense'])['Key'].count().sort_values(ascending=False)"
   ]
  },
  {
   "cell_type": "code",
   "execution_count": 53,
   "metadata": {},
   "outputs": [],
   "source": [
    "#Assault 3 & Related Offenses is the top offense in Bronx\n",
    "b_assault3 = 2212"
   ]
  },
  {
   "cell_type": "code",
   "execution_count": 54,
   "metadata": {},
   "outputs": [
    {
     "data": {
      "text/plain": [
       "'17.21'"
      ]
     },
     "execution_count": 54,
     "metadata": {},
     "output_type": "execute_result"
    }
   ],
   "source": [
    "#% of 'Assault 3 & Related Offenses in Bronx'\n",
    "format(b_assault3 / b_offenses * 100, \".2f\")"
   ]
  },
  {
   "cell_type": "code",
   "execution_count": 55,
   "metadata": {},
   "outputs": [],
   "source": [
    "#To compare Assault 3 & Related Offenses with Brooklyn and other counties, \n",
    "#let's filter out other offenses and save it in a separate dataframe\n",
    "df9 = df8[df8['Offense'].str.contains('ASSAULT 3 & RELATED OFFENSES')]"
   ]
  },
  {
   "cell_type": "code",
   "execution_count": 56,
   "metadata": {},
   "outputs": [
    {
     "data": {
      "text/plain": [
       "Sex\n",
       "M    1546\n",
       "F     646\n",
       "U      20\n",
       "Name: Key, dtype: int64"
      ]
     },
     "execution_count": 56,
     "metadata": {},
     "output_type": "execute_result"
    }
   ],
   "source": [
    "#Count of Sex of \"Assault 3 & Related Offenses\" in Bronx\n",
    "df9.groupby(['Sex'])['Key'].count().sort_values(ascending=False)"
   ]
  },
  {
   "cell_type": "code",
   "execution_count": 57,
   "metadata": {},
   "outputs": [],
   "source": [
    "b_sex = 1546\n",
    "b_sex2 = 646\n",
    "b_sex3 = 20"
   ]
  },
  {
   "cell_type": "code",
   "execution_count": 58,
   "metadata": {},
   "outputs": [
    {
     "data": {
      "text/plain": [
       "'69.89'"
      ]
     },
     "execution_count": 58,
     "metadata": {},
     "output_type": "execute_result"
    }
   ],
   "source": [
    "#69.89% of the offenses in Bronx are committed by male perpetrators\n",
    "b_sex_mp = format(b_sex / b_assault3 * 100, \".2f\")\n",
    "b_sex_mp"
   ]
  },
  {
   "cell_type": "code",
   "execution_count": 59,
   "metadata": {},
   "outputs": [
    {
     "data": {
      "text/plain": [
       "'29.20'"
      ]
     },
     "execution_count": 59,
     "metadata": {},
     "output_type": "execute_result"
    }
   ],
   "source": [
    "#29.20% of the offenses in Bronx are committed by female perpetrators\n",
    "b_sex_fp = format(b_sex2 / b_assault3 * 100, \".2f\")\n",
    "b_sex_fp"
   ]
  },
  {
   "cell_type": "code",
   "execution_count": 60,
   "metadata": {},
   "outputs": [
    {
     "data": {
      "text/plain": [
       "'0.90'"
      ]
     },
     "execution_count": 60,
     "metadata": {},
     "output_type": "execute_result"
    }
   ],
   "source": [
    "#0.90% of the offenses in Bronx are committed by undefined gender perpetrators\n",
    "b_sex_up = format(b_sex3 / b_assault3 * 100, \".2f\")\n",
    "b_sex_up"
   ]
  },
  {
   "cell_type": "code",
   "execution_count": 61,
   "metadata": {},
   "outputs": [],
   "source": [
    "#Creating a dataframe to compare Total of Offenses and Assault 3 & Related Offenses across Brooklyn, Manhattan and Bronx\n",
    "offenses_df = pd.DataFrame({'Borough': ['Brooklyn', 'Manhattan', 'Bronx'],\n",
    "                                'Total Offenses': [k_offenses, m_offenses, b_offenses],\n",
    "                                'Assault 3 & Other': [k_assault3, m_assault3, b_assault3]})"
   ]
  },
  {
   "cell_type": "code",
   "execution_count": 62,
   "metadata": {},
   "outputs": [
    {
     "data": {
      "text/html": [
       "<div>\n",
       "<style scoped>\n",
       "    .dataframe tbody tr th:only-of-type {\n",
       "        vertical-align: middle;\n",
       "    }\n",
       "\n",
       "    .dataframe tbody tr th {\n",
       "        vertical-align: top;\n",
       "    }\n",
       "\n",
       "    .dataframe thead th {\n",
       "        text-align: right;\n",
       "    }\n",
       "</style>\n",
       "<table border=\"1\" class=\"dataframe\">\n",
       "  <thead>\n",
       "    <tr style=\"text-align: right;\">\n",
       "      <th></th>\n",
       "      <th>Borough</th>\n",
       "      <th>Total Offenses</th>\n",
       "      <th>Assault 3 &amp; Other</th>\n",
       "    </tr>\n",
       "  </thead>\n",
       "  <tbody>\n",
       "    <tr>\n",
       "      <th>0</th>\n",
       "      <td>Brooklyn</td>\n",
       "      <td>15208</td>\n",
       "      <td>2106</td>\n",
       "    </tr>\n",
       "    <tr>\n",
       "      <th>1</th>\n",
       "      <td>Manhattan</td>\n",
       "      <td>12559</td>\n",
       "      <td>1530</td>\n",
       "    </tr>\n",
       "    <tr>\n",
       "      <th>2</th>\n",
       "      <td>Bronx</td>\n",
       "      <td>12856</td>\n",
       "      <td>2212</td>\n",
       "    </tr>\n",
       "  </tbody>\n",
       "</table>\n",
       "</div>"
      ],
      "text/plain": [
       "     Borough  Total Offenses  Assault 3 & Other\n",
       "0   Brooklyn           15208               2106\n",
       "1  Manhattan           12559               1530\n",
       "2      Bronx           12856               2212"
      ]
     },
     "execution_count": 62,
     "metadata": {},
     "output_type": "execute_result"
    }
   ],
   "source": [
    "offenses_df"
   ]
  },
  {
   "cell_type": "code",
   "execution_count": 63,
   "metadata": {},
   "outputs": [],
   "source": [
    "#Updating index to 'Borough'\n",
    "offenses_df = offenses_df.set_index('Borough')"
   ]
  },
  {
   "cell_type": "code",
   "execution_count": 64,
   "metadata": {},
   "outputs": [
    {
     "data": {
      "text/html": [
       "<div>\n",
       "<style scoped>\n",
       "    .dataframe tbody tr th:only-of-type {\n",
       "        vertical-align: middle;\n",
       "    }\n",
       "\n",
       "    .dataframe tbody tr th {\n",
       "        vertical-align: top;\n",
       "    }\n",
       "\n",
       "    .dataframe thead th {\n",
       "        text-align: right;\n",
       "    }\n",
       "</style>\n",
       "<table border=\"1\" class=\"dataframe\">\n",
       "  <thead>\n",
       "    <tr style=\"text-align: right;\">\n",
       "      <th></th>\n",
       "      <th>Total Offenses</th>\n",
       "      <th>Assault 3 &amp; Other</th>\n",
       "    </tr>\n",
       "    <tr>\n",
       "      <th>Borough</th>\n",
       "      <th></th>\n",
       "      <th></th>\n",
       "    </tr>\n",
       "  </thead>\n",
       "  <tbody>\n",
       "    <tr>\n",
       "      <th>Brooklyn</th>\n",
       "      <td>15208</td>\n",
       "      <td>2106</td>\n",
       "    </tr>\n",
       "    <tr>\n",
       "      <th>Manhattan</th>\n",
       "      <td>12559</td>\n",
       "      <td>1530</td>\n",
       "    </tr>\n",
       "    <tr>\n",
       "      <th>Bronx</th>\n",
       "      <td>12856</td>\n",
       "      <td>2212</td>\n",
       "    </tr>\n",
       "  </tbody>\n",
       "</table>\n",
       "</div>"
      ],
      "text/plain": [
       "           Total Offenses  Assault 3 & Other\n",
       "Borough                                     \n",
       "Brooklyn            15208               2106\n",
       "Manhattan           12559               1530\n",
       "Bronx               12856               2212"
      ]
     },
     "execution_count": 64,
     "metadata": {},
     "output_type": "execute_result"
    }
   ],
   "source": [
    "#Now dataframe is ready for plotting!\n",
    "offenses_df"
   ]
  },
  {
   "cell_type": "code",
   "execution_count": 65,
   "metadata": {},
   "outputs": [
    {
     "data": {
      "text/plain": [
       "<AxesSubplot:title={'center':'Comparison of Offenses: Brooklyn vs. Others'}, xlabel='Borough'>"
      ]
     },
     "execution_count": 65,
     "metadata": {},
     "output_type": "execute_result"
    },
    {
     "data": {
      "image/png": "[encoded data removed]",
      "text/plain": [
       "<Figure size 432x288 with 1 Axes>"
      ]
     },
     "metadata": {
      "needs_background": "light"
     },
     "output_type": "display_data"
    }
   ],
   "source": [
    "offenses_df.plot(kind=\"bar\", title=\"Comparison of Offenses: Brooklyn vs. Others\")"
   ]
  },
  {
   "cell_type": "code",
   "execution_count": 66,
   "metadata": {},
   "outputs": [],
   "source": [
    "#Brooklyn, Manhattan and the Bronx are the Boroughs with the highest total of offenses reported, \n",
    "#with 15208, 12559 and 12856 offenses reported respectively.\n",
    "#The top offense reported in Brooklynis Assault 3 and other with 2106.\n",
    "#If we compare this same offense type with other Boroughs; Bronx surpasses Brooklyn with 2212 and Manhattan comes last with 1530."
   ]
  },
  {
   "cell_type": "code",
   "execution_count": 67,
   "metadata": {},
   "outputs": [],
   "source": [
    "#Creating a dataframe to compare proportion of Sex of Assault 3 & Related Offenses perpretrators across Brooklyn, Manhattan and Bronx\n",
    "sex_df = pd.DataFrame({'Borough': ['Brooklyn', 'Manhattan', 'Bronx'],\n",
    "                                'Male (%)': [k_sex_mp, m_sex_mp, b_sex_mp],\n",
    "                                'Female (%)': [k_sex_fp, m_sex_fp, b_sex_fp],\n",
    "                                'Undefined (%)': [k_sex_up, m_sex_up, b_sex_up]})\n",
    "#To make dataframe better visible for plotting, index was updated to 'Borough'\n",
    "sex_df = sex_df.set_index('Borough')"
   ]
  },
  {
   "cell_type": "code",
   "execution_count": 68,
   "metadata": {},
   "outputs": [
    {
     "data": {
      "text/html": [
       "<div>\n",
       "<style scoped>\n",
       "    .dataframe tbody tr th:only-of-type {\n",
       "        vertical-align: middle;\n",
       "    }\n",
       "\n",
       "    .dataframe tbody tr th {\n",
       "        vertical-align: top;\n",
       "    }\n",
       "\n",
       "    .dataframe thead th {\n",
       "        text-align: right;\n",
       "    }\n",
       "</style>\n",
       "<table border=\"1\" class=\"dataframe\">\n",
       "  <thead>\n",
       "    <tr style=\"text-align: right;\">\n",
       "      <th></th>\n",
       "      <th>Male (%)</th>\n",
       "      <th>Female (%)</th>\n",
       "      <th>Undefined (%)</th>\n",
       "    </tr>\n",
       "    <tr>\n",
       "      <th>Borough</th>\n",
       "      <th></th>\n",
       "      <th></th>\n",
       "      <th></th>\n",
       "    </tr>\n",
       "  </thead>\n",
       "  <tbody>\n",
       "    <tr>\n",
       "      <th>Brooklyn</th>\n",
       "      <td>74.03</td>\n",
       "      <td>24.93</td>\n",
       "      <td>1.04</td>\n",
       "    </tr>\n",
       "    <tr>\n",
       "      <th>Manhattan</th>\n",
       "      <td>75.36</td>\n",
       "      <td>23.33</td>\n",
       "      <td>1.31</td>\n",
       "    </tr>\n",
       "    <tr>\n",
       "      <th>Bronx</th>\n",
       "      <td>69.89</td>\n",
       "      <td>29.20</td>\n",
       "      <td>0.90</td>\n",
       "    </tr>\n",
       "  </tbody>\n",
       "</table>\n",
       "</div>"
      ],
      "text/plain": [
       "          Male (%) Female (%) Undefined (%)\n",
       "Borough                                    \n",
       "Brooklyn     74.03      24.93          1.04\n",
       "Manhattan    75.36      23.33          1.31\n",
       "Bronx        69.89      29.20          0.90"
      ]
     },
     "execution_count": 68,
     "metadata": {},
     "output_type": "execute_result"
    }
   ],
   "source": [
    "#Sex comparison per Boroughs looks like this\n",
    "sex_df"
   ]
  },
  {
   "cell_type": "code",
   "execution_count": 69,
   "metadata": {},
   "outputs": [],
   "source": [
    "#Convert object values in the dataframe to float so they can be plotted\n",
    "sex_df['Male (%)'] = sex_df['Male (%)'].apply(pd.to_numeric)\n",
    "sex_df['Female (%)'] = sex_df['Female (%)'].apply(pd.to_numeric)\n",
    "sex_df['Undefined (%)'] = sex_df['Undefined (%)'].apply(pd.to_numeric)"
   ]
  },
  {
   "cell_type": "code",
   "execution_count": 70,
   "metadata": {},
   "outputs": [
    {
     "data": {
      "text/plain": [
       "Male (%)         float64\n",
       "Female (%)       float64\n",
       "Undefined (%)    float64\n",
       "dtype: object"
      ]
     },
     "execution_count": 70,
     "metadata": {},
     "output_type": "execute_result"
    }
   ],
   "source": [
    "#Confirm data is numeric\n",
    "sex_df.dtypes"
   ]
  },
  {
   "cell_type": "code",
   "execution_count": 71,
   "metadata": {},
   "outputs": [
    {
     "data": {
      "text/plain": [
       "Text(0.5, 1.0, 'Proportion of offenders per Sex: Brooklyn vs. Others')"
      ]
     },
     "execution_count": 71,
     "metadata": {},
     "output_type": "execute_result"
    },
    {
     "data": {
      "image/png": "[encoded data removed]",
      "text/plain": [
       "<Figure size 432x288 with 1 Axes>"
      ]
     },
     "metadata": {
      "needs_background": "light"
     },
     "output_type": "display_data"
    }
   ],
   "source": [
    "# Create stacked bar chart for proportion of Assault 3 Offenders per Borough\n",
    "sex_df.plot(kind='bar', stacked=True, color=['red', 'skyblue', 'green'])\n",
    " \n",
    "# labels for x & y axis and plot title\n",
    "plt.xlabel('Boroughs')\n",
    "plt.ylabel('Percentage')\n",
    "plt.title('Proportion of offenders per Sex: Brooklyn vs. Others')"
   ]
  },
  {
   "cell_type": "code",
   "execution_count": 72,
   "metadata": {},
   "outputs": [],
   "source": [
    "#74.03% of the Assault 3 and other reported were male perpetrators in Brooklyn.\n",
    "#Sex value for that offense type remains almost the same for Manhattan and a little lower in the Bronx,\n",
    "#where we see a sligtly bigger proportion of female perpretrators."
   ]
  }
 ],
 "metadata": {
  "kernelspec": {
   "display_name": "Python 3",
   "language": "python",
   "name": "python3"
  },
  "language_info": {
   "codemirror_mode": {
    "name": "ipython",
    "version": 3
   },
   "file_extension": ".py",
   "mimetype": "text/x-python",
   "name": "python",
   "nbconvert_exporter": "python",
   "pygments_lexer": "ipython3",
   "version": "3.8.5"
  }
 },
 "nbformat": 4,
 "nbformat_minor": 4
}
